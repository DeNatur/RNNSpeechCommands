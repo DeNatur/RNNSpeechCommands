{
 "cells": [
  {
   "cell_type": "code",
   "execution_count": 1,
   "metadata": {},
   "outputs": [],
   "source": [
    "modelType = \"my-model-rnn\" # \"model-RNN\""
   ]
  },
  {
   "cell_type": "code",
   "execution_count": null,
   "metadata": {},
   "outputs": [],
   "source": [
    "!npx degit DeNatur/RNNSpeechCommands/attRNNModel attRNNModel\n",
    "!npx degit DeNatur/RNNSpeechCommands/sampleData sampleData\n",
    "\n",
    "!wget -q https://raw.githubusercontent.com/DeNatur/RNNSpeechCommands/main/SequenceGenerator.py\n",
    "!wget -q https://raw.githubusercontent.com/DeNatur/RNNSpeechCommands/main/audioUtils.py\n",
    "!wget -q https://raw.githubusercontent.com/DeNatur/RNNSpeechCommands/main/requirements.txt\n",
    "!pip install -r requirements.txt"
   ]
  },
  {
   "cell_type": "code",
   "execution_count": 2,
   "metadata": {},
   "outputs": [],
   "source": [
    "from matplotlib import pyplot as plt\n",
    "import numpy as np\n",
    "import tensorflow as tf\n",
    "import pandas as pd\n",
    "\n",
    "from SequenceGenerator import SequenceGenerator\n",
    "import audioUtils"
   ]
  },
  {
   "cell_type": "code",
   "execution_count": 3,
   "metadata": {},
   "outputs": [],
   "source": [
    "classes = ['nine', 'yes', 'no', 'up', 'down', 'left', 'right', 'on', 'off', 'stop', 'go',\n",
    "           'zero', 'one', 'two', 'three', 'four', 'five', 'six', \n",
    "           'seven',  'eight', 'backward', 'bed', 'bird', 'cat', 'dog',\n",
    "           'follow', 'forward', 'happy', 'house', 'learn', 'marvin', 'sheila', 'tree',\n",
    "           'visual', 'wow']"
   ]
  },
  {
   "cell_type": "code",
   "execution_count": null,
   "metadata": {},
   "outputs": [],
   "source": [
    "reload_sm_keras = tf.keras.models.load_model(modelType + \"/1/\")\n",
    "reload_sm_keras.summary()"
   ]
  },
  {
   "cell_type": "code",
   "execution_count": 5,
   "metadata": {},
   "outputs": [
    {
     "name": "stderr",
     "output_type": "stream",
     "text": [
      "100%|██████████| 1/1 [00:00<00:00,  3.13it/s]\n"
     ]
    }
   ],
   "source": [
    "audioUtils.WAV2Numpy(\"sampleData\")"
   ]
  },
  {
   "cell_type": "code",
   "execution_count": 7,
   "metadata": {},
   "outputs": [
    {
     "name": "stdout",
     "output_type": "stream",
     "text": [
      "{'sampledata/nine_test_szymon.wav.npy': 13}\n"
     ]
    },
    {
     "data": {
      "image/png": "[encoded data removed]",
      "text/plain": [
       "<Figure size 432x288 with 1 Axes>"
      ]
     },
     "metadata": {
      "needs_background": "light"
     },
     "output_type": "display_data"
    }
   ],
   "source": [
    "path = \"sampledata/nine_test_szymon.wav.npy\"\n",
    "\n",
    "idArray = [path]\n",
    "labels = {path: 13}\n",
    "\n",
    "testGen = SequenceGenerator(idArray, labels, shuffle=False, batch_size=len(idArray))\n",
    "x_test, y_test = testGen.__getitem__(0)\n",
    "plt.plot(x_test[0])\n",
    "\n",
    "pred = reload_sm_keras.predict(x_test)"
   ]
  },
  {
   "cell_type": "code",
   "execution_count": 8,
   "metadata": {},
   "outputs": [
    {
     "name": "stdout",
     "output_type": "stream",
     "text": [
      "nine       99.90%\n",
      "learn      0.08%\n",
      "no         0.01%\n",
      "bird       0.00%\n",
      "one        0.00%\n",
      "right      0.00%\n",
      "marvin     0.00%\n",
      "down       0.00%\n",
      "bed        0.00%\n",
      "left       0.00%\n",
      "five       0.00%\n",
      "on         0.00%\n",
      "seven      0.00%\n",
      "three      0.00%\n",
      "backward   0.00%\n",
      "go         0.00%\n",
      "wow        0.00%\n",
      "happy      0.00%\n",
      "dog        0.00%\n",
      "cat        0.00%\n",
      "follow     0.00%\n",
      "up         0.00%\n",
      "tree       0.00%\n",
      "forward    0.00%\n",
      "sheila     0.00%\n",
      "house      0.00%\n",
      "eight      0.00%\n",
      "zero       0.00%\n",
      "off        0.00%\n",
      "yes        0.00%\n",
      "four       0.00%\n",
      "visual     0.00%\n",
      "two        0.00%\n",
      "six        0.00%\n",
      "stop       0.00%\n",
      "wow        0.00%\n"
     ]
    }
   ],
   "source": [
    "x_tab = {}\n",
    "for id, x in enumerate(pred[0]):\n",
    "    x_tab[id]=  x * 100\n",
    "\n",
    "for x in sorted(x_tab.items(), key=lambda item: item[1], reverse=True):\n",
    "    a, b = x\n",
    "    print(\"{:<10} {:.2f}%\".format(classes[a - 1], b))"
   ]
  }
 ],
 "metadata": {
  "interpreter": {
   "hash": "f71222efeac2516dbe25f613e7d6d002b5e312af084a48149620fcb4a97a32e9"
  },
  "kernelspec": {
   "display_name": "Python 3.7.13 ('rnn')",
   "language": "python",
   "name": "python3"
  },
  "language_info": {
   "codemirror_mode": {
    "name": "ipython",
    "version": 3
   },
   "file_extension": ".py",
   "mimetype": "text/x-python",
   "name": "python",
   "nbconvert_exporter": "python",
   "pygments_lexer": "ipython3",
   "version": "3.7.13"
  },
  "orig_nbformat": 4
 },
 "nbformat": 4,
 "nbformat_minor": 2
}
