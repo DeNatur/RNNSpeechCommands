{
 "cells": [
  {
   "cell_type": "code",
   "execution_count": 1,
   "metadata": {},
   "outputs": [
    {
     "name": "stderr",
     "output_type": "stream",
     "text": [
      "^C\n"
     ]
    },
    {
     "name": "stdout",
     "output_type": "stream",
     "text": [
      "^C\n",
      "Collecting tensorflow==2.3.4\n",
      "  Downloading tensorflow-2.3.4-cp37-cp37m-win_amd64.whl (342.7 MB)\n",
      "Requirement already satisfied: kapre==0.2 in d:\\anaconda\\envs\\rnn\\lib\\site-packages (from -r requirements.txt (line 2)) (0.2.0)\n",
      "Requirement already satisfied: pandas>=0.25 in d:\\anaconda\\envs\\rnn\\lib\\site-packages (from -r requirements.txt (line 3)) (1.3.5)\n",
      "Requirement already satisfied: librosa>=0.8 in d:\\anaconda\\envs\\rnn\\lib\\site-packages (from -r requirements.txt (line 4)) (0.9.1)\n",
      "Requirement already satisfied: tqdm in d:\\anaconda\\envs\\rnn\\lib\\site-packages (from -r requirements.txt (line 5)) (4.63.0)\n",
      "Requirement already satisfied: matplotlib in d:\\anaconda\\envs\\rnn\\lib\\site-packages (from -r requirements.txt (line 6)) (3.5.1)\n",
      "Requirement already satisfied: opt-einsum>=2.3.2 in d:\\anaconda\\envs\\rnn\\lib\\site-packages (from tensorflow==2.3.4->-r requirements.txt (line 1)) (3.3.0)\n",
      "Requirement already satisfied: h5py<2.11.0,>=2.10.0 in d:\\anaconda\\envs\\rnn\\lib\\site-packages (from tensorflow==2.3.4->-r requirements.txt (line 1)) (2.10.0)\n",
      "Requirement already satisfied: wheel>=0.26 in d:\\anaconda\\envs\\rnn\\lib\\site-packages (from tensorflow==2.3.4->-r requirements.txt (line 1)) (0.37.1)\n",
      "Requirement already satisfied: google-pasta>=0.1.8 in d:\\anaconda\\envs\\rnn\\lib\\site-packages (from tensorflow==2.3.4->-r requirements.txt (line 1)) (0.2.0)\n",
      "Requirement already satisfied: absl-py>=0.7.0 in d:\\anaconda\\envs\\rnn\\lib\\site-packages (from tensorflow==2.3.4->-r requirements.txt (line 1)) (1.0.0)\n",
      "Collecting tensorflow-estimator<2.4.0,>=2.3.0\n",
      "  Downloading tensorflow_estimator-2.3.0-py2.py3-none-any.whl (459 kB)\n",
      "Requirement already satisfied: six>=1.12.0 in d:\\anaconda\\envs\\rnn\\lib\\site-packages (from tensorflow==2.3.4->-r requirements.txt (line 1)) (1.16.0)\n",
      "Requirement already satisfied: astunparse==1.6.3 in d:\\anaconda\\envs\\rnn\\lib\\site-packages (from tensorflow==2.3.4->-r requirements.txt (line 1)) (1.6.3)\n",
      "Requirement already satisfied: tensorboard<3,>=2.3.0 in d:\\anaconda\\envs\\rnn\\lib\\site-packages (from tensorflow==2.3.4->-r requirements.txt (line 1)) (2.8.0)\n",
      "Requirement already satisfied: termcolor>=1.1.0 in d:\\anaconda\\envs\\rnn\\lib\\site-packages (from tensorflow==2.3.4->-r requirements.txt (line 1)) (1.1.0)\n",
      "Requirement already satisfied: protobuf>=3.9.2 in d:\\anaconda\\envs\\rnn\\lib\\site-packages (from tensorflow==2.3.4->-r requirements.txt (line 1)) (3.20.0)\n",
      "Requirement already satisfied: keras-preprocessing<1.2,>=1.1.1 in d:\\anaconda\\envs\\rnn\\lib\\site-packages (from tensorflow==2.3.4->-r requirements.txt (line 1)) (1.1.2)\n",
      "Requirement already satisfied: grpcio>=1.8.6 in d:\\anaconda\\envs\\rnn\\lib\\site-packages (from tensorflow==2.3.4->-r requirements.txt (line 1)) (1.44.0)\n",
      "Requirement already satisfied: numpy<1.19.0,>=1.16.0 in d:\\anaconda\\envs\\rnn\\lib\\site-packages (from tensorflow==2.3.4->-r requirements.txt (line 1)) (1.18.5)\n",
      "Requirement already satisfied: gast==0.3.3 in d:\\anaconda\\envs\\rnn\\lib\\site-packages (from tensorflow==2.3.4->-r requirements.txt (line 1)) (0.3.3)\n",
      "Requirement already satisfied: wrapt>=1.11.1 in d:\\anaconda\\envs\\rnn\\lib\\site-packages (from tensorflow==2.3.4->-r requirements.txt (line 1)) (1.13.3)\n",
      "Requirement already satisfied: pytz>=2017.3 in d:\\anaconda\\envs\\rnn\\lib\\site-packages (from pandas>=0.25->-r requirements.txt (line 3)) (2021.3)\n",
      "Requirement already satisfied: python-dateutil>=2.7.3 in d:\\anaconda\\envs\\rnn\\lib\\site-packages (from pandas>=0.25->-r requirements.txt (line 3)) (2.8.2)\n",
      "Requirement already satisfied: numba>=0.45.1 in d:\\anaconda\\envs\\rnn\\lib\\site-packages (from librosa>=0.8->-r requirements.txt (line 4)) (0.53.0)\n",
      "Requirement already satisfied: audioread>=2.1.5 in d:\\anaconda\\envs\\rnn\\lib\\site-packages (from librosa>=0.8->-r requirements.txt (line 4)) (2.1.9)\n",
      "Requirement already satisfied: scikit-learn>=0.19.1 in d:\\anaconda\\envs\\rnn\\lib\\site-packages (from librosa>=0.8->-r requirements.txt (line 4)) (1.0.2)\n",
      "Requirement already satisfied: resampy>=0.2.2 in d:\\anaconda\\envs\\rnn\\lib\\site-packages (from librosa>=0.8->-r requirements.txt (line 4)) (0.2.2)\n",
      "Requirement already satisfied: soundfile>=0.10.2 in d:\\anaconda\\envs\\rnn\\lib\\site-packages (from librosa>=0.8->-r requirements.txt (line 4)) (0.10.3.post1)\n",
      "Requirement already satisfied: scipy>=1.2.0 in d:\\anaconda\\envs\\rnn\\lib\\site-packages (from librosa>=0.8->-r requirements.txt (line 4)) (1.7.3)\n",
      "Requirement already satisfied: pooch>=1.0 in d:\\anaconda\\envs\\rnn\\lib\\site-packages (from librosa>=0.8->-r requirements.txt (line 4)) (1.6.0)\n",
      "Requirement already satisfied: joblib>=0.14 in d:\\anaconda\\envs\\rnn\\lib\\site-packages (from librosa>=0.8->-r requirements.txt (line 4)) (1.1.0)\n",
      "Requirement already satisfied: packaging>=20.0 in d:\\anaconda\\envs\\rnn\\lib\\site-packages (from librosa>=0.8->-r requirements.txt (line 4)) (21.3)\n",
      "Requirement already satisfied: decorator>=4.0.10 in d:\\anaconda\\envs\\rnn\\lib\\site-packages (from librosa>=0.8->-r requirements.txt (line 4)) (5.1.1)\n",
      "Requirement already satisfied: colorama in d:\\anaconda\\envs\\rnn\\lib\\site-packages (from tqdm->-r requirements.txt (line 5)) (0.4.4)\n",
      "Requirement already satisfied: fonttools>=4.22.0 in d:\\anaconda\\envs\\rnn\\lib\\site-packages (from matplotlib->-r requirements.txt (line 6)) (4.25.0)\n",
      "Requirement already satisfied: kiwisolver>=1.0.1 in d:\\anaconda\\envs\\rnn\\lib\\site-packages (from matplotlib->-r requirements.txt (line 6)) (1.3.2)\n",
      "Requirement already satisfied: pillow>=6.2.0 in d:\\anaconda\\envs\\rnn\\lib\\site-packages (from matplotlib->-r requirements.txt (line 6)) (9.0.1)\n",
      "Requirement already satisfied: cycler>=0.10 in d:\\anaconda\\envs\\rnn\\lib\\site-packages (from matplotlib->-r requirements.txt (line 6)) (0.11.0)\n",
      "Requirement already satisfied: pyparsing>=2.2.1 in d:\\anaconda\\envs\\rnn\\lib\\site-packages (from matplotlib->-r requirements.txt (line 6)) (3.0.4)\n",
      "Requirement already satisfied: llvmlite<0.37,>=0.36.0rc1 in d:\\anaconda\\envs\\rnn\\lib\\site-packages (from numba>=0.45.1->librosa>=0.8->-r requirements.txt (line 4)) (0.36.0)\n",
      "Requirement already satisfied: setuptools in d:\\anaconda\\envs\\rnn\\lib\\site-packages (from numba>=0.45.1->librosa>=0.8->-r requirements.txt (line 4)) (58.0.4)\n",
      "Requirement already satisfied: appdirs>=1.3.0 in d:\\anaconda\\envs\\rnn\\lib\\site-packages (from pooch>=1.0->librosa>=0.8->-r requirements.txt (line 4)) (1.4.4)\n",
      "Requirement already satisfied: requests>=2.19.0 in d:\\anaconda\\envs\\rnn\\lib\\site-packages (from pooch>=1.0->librosa>=0.8->-r requirements.txt (line 4)) (2.27.1)\n",
      "Requirement already satisfied: certifi>=2017.4.17 in d:\\anaconda\\envs\\rnn\\lib\\site-packages (from requests>=2.19.0->pooch>=1.0->librosa>=0.8->-r requirements.txt (line 4)) (2021.10.8)\n",
      "Requirement already satisfied: idna<4,>=2.5 in d:\\anaconda\\envs\\rnn\\lib\\site-packages (from requests>=2.19.0->pooch>=1.0->librosa>=0.8->-r requirements.txt (line 4)) (3.3)\n",
      "Requirement already satisfied: charset-normalizer~=2.0.0 in d:\\anaconda\\envs\\rnn\\lib\\site-packages (from requests>=2.19.0->pooch>=1.0->librosa>=0.8->-r requirements.txt (line 4)) (2.0.4)\n",
      "Requirement already satisfied: urllib3<1.27,>=1.21.1 in d:\\anaconda\\envs\\rnn\\lib\\site-packages (from requests>=2.19.0->pooch>=1.0->librosa>=0.8->-r requirements.txt (line 4)) (1.26.8)\n",
      "Requirement already satisfied: threadpoolctl>=2.0.0 in d:\\anaconda\\envs\\rnn\\lib\\site-packages (from scikit-learn>=0.19.1->librosa>=0.8->-r requirements.txt (line 4)) (2.2.0)\n",
      "Requirement already satisfied: cffi>=1.0 in d:\\anaconda\\envs\\rnn\\lib\\site-packages (from soundfile>=0.10.2->librosa>=0.8->-r requirements.txt (line 4)) (1.15.0)\n",
      "Requirement already satisfied: pycparser in d:\\anaconda\\envs\\rnn\\lib\\site-packages (from cffi>=1.0->soundfile>=0.10.2->librosa>=0.8->-r requirements.txt (line 4)) (2.21)\n",
      "Requirement already satisfied: tensorboard-plugin-wit>=1.6.0 in d:\\anaconda\\envs\\rnn\\lib\\site-packages (from tensorboard<3,>=2.3.0->tensorflow==2.3.4->-r requirements.txt (line 1)) (1.8.1)\n",
      "Requirement already satisfied: werkzeug>=0.11.15 in d:\\anaconda\\envs\\rnn\\lib\\site-packages (from tensorboard<3,>=2.3.0->tensorflow==2.3.4->-r requirements.txt (line 1)) (2.0.3)\n",
      "Requirement already satisfied: google-auth<3,>=1.6.3 in d:\\anaconda\\envs\\rnn\\lib\\site-packages (from tensorboard<3,>=2.3.0->tensorflow==2.3.4->-r requirements.txt (line 1)) (2.6.2)\n",
      "Requirement already satisfied: tensorboard-data-server<0.7.0,>=0.6.0 in d:\\anaconda\\envs\\rnn\\lib\\site-packages (from tensorboard<3,>=2.3.0->tensorflow==2.3.4->-r requirements.txt (line 1)) (0.6.1)\n",
      "Requirement already satisfied: google-auth-oauthlib<0.5,>=0.4.1 in d:\\anaconda\\envs\\rnn\\lib\\site-packages (from tensorboard<3,>=2.3.0->tensorflow==2.3.4->-r requirements.txt (line 1)) (0.4.6)\n",
      "Requirement already satisfied: markdown>=2.6.8 in d:\\anaconda\\envs\\rnn\\lib\\site-packages (from tensorboard<3,>=2.3.0->tensorflow==2.3.4->-r requirements.txt (line 1)) (3.3.6)\n",
      "Requirement already satisfied: pyasn1-modules>=0.2.1 in d:\\anaconda\\envs\\rnn\\lib\\site-packages (from google-auth<3,>=1.6.3->tensorboard<3,>=2.3.0->tensorflow==2.3.4->-r requirements.txt (line 1)) (0.2.8)\n",
      "Requirement already satisfied: rsa<5,>=3.1.4 in d:\\anaconda\\envs\\rnn\\lib\\site-packages (from google-auth<3,>=1.6.3->tensorboard<3,>=2.3.0->tensorflow==2.3.4->-r requirements.txt (line 1)) (4.8)\n",
      "Requirement already satisfied: cachetools<6.0,>=2.0.0 in d:\\anaconda\\envs\\rnn\\lib\\site-packages (from google-auth<3,>=1.6.3->tensorboard<3,>=2.3.0->tensorflow==2.3.4->-r requirements.txt (line 1)) (5.0.0)\n",
      "Requirement already satisfied: requests-oauthlib>=0.7.0 in d:\\anaconda\\envs\\rnn\\lib\\site-packages (from google-auth-oauthlib<0.5,>=0.4.1->tensorboard<3,>=2.3.0->tensorflow==2.3.4->-r requirements.txt (line 1)) (1.3.1)\n",
      "Requirement already satisfied: importlib-metadata>=4.4 in d:\\anaconda\\envs\\rnn\\lib\\site-packages (from markdown>=2.6.8->tensorboard<3,>=2.3.0->tensorflow==2.3.4->-r requirements.txt (line 1)) (4.11.3)\n",
      "Requirement already satisfied: typing-extensions>=3.6.4 in d:\\anaconda\\envs\\rnn\\lib\\site-packages (from importlib-metadata>=4.4->markdown>=2.6.8->tensorboard<3,>=2.3.0->tensorflow==2.3.4->-r requirements.txt (line 1)) (4.1.1)\n",
      "Requirement already satisfied: zipp>=0.5 in d:\\anaconda\\envs\\rnn\\lib\\site-packages (from importlib-metadata>=4.4->markdown>=2.6.8->tensorboard<3,>=2.3.0->tensorflow==2.3.4->-r requirements.txt (line 1)) (3.7.0)\n",
      "Requirement already satisfied: pyasn1<0.5.0,>=0.4.6 in d:\\anaconda\\envs\\rnn\\lib\\site-packages (from pyasn1-modules>=0.2.1->google-auth<3,>=1.6.3->tensorboard<3,>=2.3.0->tensorflow==2.3.4->-r requirements.txt (line 1)) (0.4.8)\n",
      "Requirement already satisfied: oauthlib>=3.0.0 in d:\\anaconda\\envs\\rnn\\lib\\site-packages (from requests-oauthlib>=0.7.0->google-auth-oauthlib<0.5,>=0.4.1->tensorboard<3,>=2.3.0->tensorflow==2.3.4->-r requirements.txt (line 1)) (3.2.0)\n",
      "Installing collected packages: tensorflow-estimator, tensorflow\n",
      "Successfully installed tensorflow-2.3.4 tensorflow-estimator-2.3.0\n"
     ]
    }
   ],
   "source": [
    "!npx degit DeNatur/RNNSpeechCommands/attRNNModel attRNNModel\n",
    "!npx degit DeNatur/RNNSpeechCommands/sampleData sampleData\n",
    "\n",
    "!wget -q https://raw.githubusercontent.com/DeNatur/RNNSpeechCommands/main/SequenceGenerator.py\n",
    "!wget -q https://raw.githubusercontent.com/DeNatur/RNNSpeechCommands/main/audioUtils.py\n",
    "!wget -q https://raw.githubusercontent.com/DeNatur/RNNSpeechCommands/main/requirements.txt\n",
    "!pip install -r requirements.txt"
   ]
  },
  {
   "cell_type": "code",
   "execution_count": 7,
   "metadata": {},
   "outputs": [],
   "source": [
    "from matplotlib import pyplot as plt\n",
    "import numpy as np\n",
    "import tensorflow as tf\n",
    "import pandas as pd\n",
    "\n",
    "from SequenceGenerator import SequenceGenerator\n",
    "import audioUtils"
   ]
  },
  {
   "cell_type": "code",
   "execution_count": 2,
   "metadata": {},
   "outputs": [],
   "source": [
    "classes = ['nine', 'yes', 'no', 'up', 'down', 'left', 'right', 'on', 'off', 'stop', 'go',\n",
    "           'zero', 'one', 'two', 'three', 'four', 'five', 'six', \n",
    "           'seven',  'eight', 'backward', 'bed', 'bird', 'cat', 'dog',\n",
    "           'follow', 'forward', 'happy', 'house', 'learn', 'marvin', 'sheila', 'tree',\n",
    "           'visual', 'wow']"
   ]
  },
  {
   "cell_type": "code",
   "execution_count": 3,
   "metadata": {},
   "outputs": [
    {
     "name": "stderr",
     "output_type": "stream",
     "text": [
      "D:\\Anaconda\\envs\\rnn\\lib\\site-packages\\tensorflow\\python\\keras\\layers\\core.py:1045: UserWarning: SpeechModels is not loaded, but a Lambda layer uses it. It may cause errors.\n",
      "  , UserWarning)\n"
     ]
    },
    {
     "name": "stdout",
     "output_type": "stream",
     "text": [
      "Model: \"functional_1\"\n",
      "__________________________________________________________________________________________________\n",
      "Layer (type)                    Output Shape         Param #     Connected to                     \n",
      "==================================================================================================\n",
      "input (InputLayer)              [(None, None)]       0                                            \n",
      "__________________________________________________________________________________________________\n",
      "reshape (Reshape)               (None, 1, None)      0           input[0][0]                      \n",
      "__________________________________________________________________________________________________\n",
      "mel_stft (Melspectrogram)       (None, 80, None, 1)  1091664     reshape[0][0]                    \n",
      "__________________________________________________________________________________________________\n",
      "mel_stft_norm (Normalization2D) (None, 80, None, 1)  0           mel_stft[0][0]                   \n",
      "__________________________________________________________________________________________________\n",
      "permute (Permute)               (None, None, 80, 1)  0           mel_stft_norm[0][0]              \n",
      "__________________________________________________________________________________________________\n",
      "conv2d (Conv2D)                 (None, None, 80, 10) 60          permute[0][0]                    \n",
      "__________________________________________________________________________________________________\n",
      "batch_normalization (BatchNorma (None, None, 80, 10) 40          conv2d[0][0]                     \n",
      "__________________________________________________________________________________________________\n",
      "conv2d_1 (Conv2D)               (None, None, 80, 1)  51          batch_normalization[0][0]        \n",
      "__________________________________________________________________________________________________\n",
      "batch_normalization_1 (BatchNor (None, None, 80, 1)  4           conv2d_1[0][0]                   \n",
      "__________________________________________________________________________________________________\n",
      "squeeze_last_dim (Lambda)       (None, None, 80)     0           batch_normalization_1[0][0]      \n",
      "__________________________________________________________________________________________________\n",
      "bidirectional (Bidirectional)   (None, None, 128)    74240       squeeze_last_dim[0][0]           \n",
      "__________________________________________________________________________________________________\n",
      "bidirectional_1 (Bidirectional) (None, None, 128)    98816       bidirectional[0][0]              \n",
      "__________________________________________________________________________________________________\n",
      "lambda (Lambda)                 (None, 128)          0           bidirectional_1[0][0]            \n",
      "__________________________________________________________________________________________________\n",
      "dense (Dense)                   (None, 128)          16512       lambda[0][0]                     \n",
      "__________________________________________________________________________________________________\n",
      "dot (Dot)                       (None, None)         0           dense[0][0]                      \n",
      "                                                                 bidirectional_1[0][0]            \n",
      "__________________________________________________________________________________________________\n",
      "attSoftmax (Softmax)            (None, None)         0           dot[0][0]                        \n",
      "__________________________________________________________________________________________________\n",
      "dot_1 (Dot)                     (None, 128)          0           attSoftmax[0][0]                 \n",
      "                                                                 bidirectional_1[0][0]            \n",
      "__________________________________________________________________________________________________\n",
      "dense_1 (Dense)                 (None, 64)           8256        dot_1[0][0]                      \n",
      "__________________________________________________________________________________________________\n",
      "dense_2 (Dense)                 (None, 32)           2080        dense_1[0][0]                    \n",
      "__________________________________________________________________________________________________\n",
      "output (Dense)                  (None, 36)           1188        dense_2[0][0]                    \n",
      "==================================================================================================\n",
      "Total params: 1,292,911\n",
      "Trainable params: 1,292,889\n",
      "Non-trainable params: 22\n",
      "__________________________________________________________________________________________________\n"
     ]
    }
   ],
   "source": [
    "reload_sm_keras = tf.keras.models.load_model(\"attRNNModel/1/\")\n",
    "reload_sm_keras.summary()"
   ]
  },
  {
   "cell_type": "code",
   "execution_count": 4,
   "metadata": {},
   "outputs": [
    {
     "name": "stderr",
     "output_type": "stream",
     "text": [
      "0it [00:00, ?it/s]\n"
     ]
    }
   ],
   "source": [
    "audioUtils.WAV2Numpy(\"sampleData\")"
   ]
  },
  {
   "cell_type": "code",
   "execution_count": 19,
   "metadata": {},
   "outputs": [
    {
     "name": "stdout",
     "output_type": "stream",
     "text": [
      "{'sampledata/forward_1s.wav.npy': 13}\n"
     ]
    },
    {
     "data": {
      "image/png": "[encoded data removed]",
      "text/plain": [
       "<Figure size 432x288 with 1 Axes>"
      ]
     },
     "metadata": {
      "needs_background": "light"
     },
     "output_type": "display_data"
    }
   ],
   "source": [
    "path = \"sampledata/forward_1s.wav.npy\"\n",
    "\n",
    "idArray = [path]\n",
    "labels = {path: 13}\n",
    "\n",
    "testGen = SequenceGenerator(idArray, labels, shuffle=False, batch_size=len(idArray))\n",
    "x_test, y_test = testGen.__getitem__(0)\n",
    "plt.plot(x_test[0])\n",
    "\n",
    "pred = reload_sm_keras.predict(x_test)"
   ]
  },
  {
   "cell_type": "code",
   "execution_count": 22,
   "metadata": {},
   "outputs": [
    {
     "name": "stdout",
     "output_type": "stream",
     "text": [
      "forward    100.00%\n",
      "four       0.00%\n",
      "follow     0.00%\n",
      "marvin     0.00%\n",
      "five       0.00%\n",
      "three      0.00%\n",
      "backward   0.00%\n",
      "sheila     0.00%\n",
      "zero       0.00%\n",
      "seven      0.00%\n",
      "visual     0.00%\n",
      "one        0.00%\n",
      "two        0.00%\n",
      "happy      0.00%\n",
      "on         0.00%\n",
      "house      0.00%\n",
      "tree       0.00%\n",
      "bird       0.00%\n",
      "dog        0.00%\n",
      "learn      0.00%\n",
      "off        0.00%\n",
      "cat        0.00%\n",
      "wow        0.00%\n",
      "nine       0.00%\n",
      "yes        0.00%\n",
      "down       0.00%\n",
      "wow        0.00%\n",
      "go         0.00%\n",
      "right      0.00%\n",
      "left       0.00%\n",
      "stop       0.00%\n",
      "six        0.00%\n",
      "no         0.00%\n",
      "eight      0.00%\n",
      "up         0.00%\n",
      "bed        0.00%\n"
     ]
    }
   ],
   "source": [
    "x_tab = {}\n",
    "for id, x in enumerate(pred[0]):\n",
    "    x_tab[id]=  x * 100\n",
    "\n",
    "for x in sorted(x_tab.items(), key=lambda item: item[1], reverse=True):\n",
    "    a, b = x\n",
    "    print(\"{:<10} {:.2f}%\".format(classes[a - 1], b))"
   ]
  }
 ],
 "metadata": {
  "interpreter": {
   "hash": "ce2fdeb21937b5626d95df4f7ed18516d2298ec874738be3da1a0c82759601d7"
  },
  "kernelspec": {
   "display_name": "Python 3.7.13 ('rnn')",
   "language": "python",
   "name": "python3"
  },
  "language_info": {
   "codemirror_mode": {
    "name": "ipython",
    "version": 3
   },
   "file_extension": ".py",
   "mimetype": "text/x-python",
   "name": "python",
   "nbconvert_exporter": "python",
   "pygments_lexer": "ipython3",
   "version": "3.7.13"
  },
  "orig_nbformat": 4
 },
 "nbformat": 4,
 "nbformat_minor": 2
}
