{
 "cells": [
  {
   "cell_type": "code",
   "execution_count": 2,
   "metadata": {},
   "outputs": [],
   "source": [
    "modelType = \"my-model-simplernn\" # \"model-RNN\""
   ]
  },
  {
   "cell_type": "code",
   "execution_count": null,
   "metadata": {},
   "outputs": [],
   "source": [
    "!wget -q https://raw.githubusercontent.com/DeNatur/RNNSpeechCommands/main/GoogleCommandsRepository.py\n",
    "!wget -q https://raw.githubusercontent.com/DeNatur/RNNSpeechCommands/main/RNNModels.py\n",
    "!wget -q https://raw.githubusercontent.com/DeNatur/RNNSpeechCommands/main/SequenceGenerator.py\n",
    "!wget -q https://raw.githubusercontent.com/DeNatur/RNNSpeechCommands/main/audioUtils.py\n",
    "!wget -q https://raw.githubusercontent.com/DeNatur/RNNSpeechCommands/main/requirements.txt\n",
    "!pip install -r requirements.txt"
   ]
  },
  {
   "cell_type": "code",
   "execution_count": 3,
   "metadata": {},
   "outputs": [
    {
     "name": "stdout",
     "output_type": "stream",
     "text": [
      "[name: \"/device:CPU:0\"\n",
      "device_type: \"CPU\"\n",
      "memory_limit: 268435456\n",
      "locality {\n",
      "}\n",
      "incarnation: 11370909140165112545\n",
      ", name: \"/device:XLA_CPU:0\"\n",
      "device_type: \"XLA_CPU\"\n",
      "memory_limit: 17179869184\n",
      "locality {\n",
      "}\n",
      "incarnation: 2096923295497624605\n",
      "physical_device_desc: \"device: XLA_CPU device\"\n",
      ", name: \"/device:GPU:0\"\n",
      "device_type: \"GPU\"\n",
      "memory_limit: 5060693856\n",
      "locality {\n",
      "  bus_id: 1\n",
      "  links {\n",
      "  }\n",
      "}\n",
      "incarnation: 16776041298479507877\n",
      "physical_device_desc: \"device: 0, name: NVIDIA GeForce GTX 1060 6GB, pci bus id: 0000:01:00.0, compute capability: 6.1\"\n",
      ", name: \"/device:XLA_GPU:0\"\n",
      "device_type: \"XLA_GPU\"\n",
      "memory_limit: 17179869184\n",
      "locality {\n",
      "}\n",
      "incarnation: 2196147000357909071\n",
      "physical_device_desc: \"device: XLA_GPU device\"\n",
      "]\n"
     ]
    }
   ],
   "source": [
    "import tensorflow as tf\n",
    "from tensorflow.python.client import device_lib\n",
    "print(device_lib.list_local_devices())"
   ]
  },
  {
   "cell_type": "code",
   "execution_count": 4,
   "metadata": {},
   "outputs": [],
   "source": [
    "import librosa\n",
    "import matplotlib\n",
    "import numpy as np\n",
    "import matplotlib.pyplot as plt\n",
    "%matplotlib inline  \n",
    "\n",
    "import GoogleCommandsRepository\n",
    "import SequenceGenerator\n",
    "# import RNNModels\n",
    "from RNNModels import RNNSpeechModel, AttRNNSpeechModel, my_RNNSpeechModel, my2_SimpleRNNSpeechModel"
   ]
  },
  {
   "cell_type": "code",
   "execution_count": 5,
   "metadata": {},
   "outputs": [
    {
     "name": "stdout",
     "output_type": "stream",
     "text": [
      "Done preparing Google Speech commands dataset\n"
     ]
    }
   ],
   "source": [
    "# Download and prepare all data\n",
    "gscInfo, nCategs = GoogleCommandsRepository.PrepareGoogleSpeechCmd(task='35word')"
   ]
  },
  {
   "cell_type": "code",
   "execution_count": 7,
   "metadata": {},
   "outputs": [
    {
     "name": "stderr",
     "output_type": "stream",
     "text": [
      "IOPub data rate exceeded.\n",
      "The notebook server will temporarily stop sending output\n",
      "to the client in order to avoid crashing it.\n",
      "To change this limit, set the config variable\n",
      "`--NotebookApp.iopub_data_rate_limit`.\n",
      "\n",
      "Current values:\n",
      "NotebookApp.iopub_data_rate_limit=1000000.0 (bytes/sec)\n",
      "NotebookApp.rate_limit_window=3.0 (secs)\n",
      "\n"
     ]
    },
    {
     "data": {
      "text/plain": [
       "311"
      ]
     },
     "execution_count": 7,
     "metadata": {},
     "output_type": "execute_result"
    }
   ],
   "source": [
    "sr = 16000 #we know this one for google audios\n",
    "iLen = 16000\n",
    "trainGen = SequenceGenerator.SequenceGenerator(gscInfo['train']['files'], gscInfo['train']['labels'], shuffle=True)\n",
    "# handle the fact that number of samples in validation may not be multiple of batch_size with shuffle=True\n",
    "valGen   = SequenceGenerator.SequenceGenerator(gscInfo['val']['files'], gscInfo['val']['labels'], shuffle=True)\n",
    "\n",
    "# use batch_size = total number of files to read all test files at once\n",
    "testGen  = SequenceGenerator.SequenceGenerator(gscInfo['test']['files'], gscInfo['test']['labels'], shuffle=False, batch_size=len(gscInfo['test']['files']))\n",
    "testRGen = SequenceGenerator.SequenceGenerator(gscInfo['testREAL']['files'], gscInfo['testREAL']['labels'], shuffle=False, batch_size=len(gscInfo['testREAL']['files']))\n",
    "valGen.__len__()"
   ]
  },
  {
   "cell_type": "code",
   "execution_count": 21,
   "metadata": {},
   "outputs": [
    {
     "data": {
      "text/plain": [
       "array([24,  3,  3, 22, 35, 12,  9,  9, 11, 19, 25,  2,  6,  6, 35,  2, 10,\n",
       "       18, 25, 29,  2, 22, 25, 29,  1, 26, 16, 16, 17, 22,  4,  1])"
      ]
     },
     "execution_count": 21,
     "metadata": {},
     "output_type": "execute_result"
    }
   ],
   "source": [
    "audios, classes = valGen.__getitem__(5)\n",
    "classes"
   ]
  },
  {
   "cell_type": "code",
   "execution_count": 22,
   "metadata": {},
   "outputs": [
    {
     "data": {
      "text/plain": [
       "[<matplotlib.lines.Line2D at 0x1a40907bf48>]"
      ]
     },
     "execution_count": 22,
     "metadata": {},
     "output_type": "execute_result"
    },
    {
     "data": {
      "image/png": "[encoded data removed]",
      "text/plain": [
       "<Figure size 432x288 with 1 Axes>"
      ]
     },
     "metadata": {
      "needs_background": "light"
     },
     "output_type": "display_data"
    }
   ],
   "source": [
    "plt.plot(audios[4])"
   ]
  },
  {
   "cell_type": "code",
   "execution_count": 27,
   "metadata": {},
   "outputs": [
    {
     "data": {
      "text/plain": [
       "(32, 16000)"
      ]
     },
     "execution_count": 27,
     "metadata": {},
     "output_type": "execute_result"
    }
   ],
   "source": [
    "audios.shape"
   ]
  },
  {
   "cell_type": "code",
   "execution_count": 8,
   "metadata": {},
   "outputs": [],
   "source": [
    "from tensorflow.keras.models import Model, load_model\n",
    "\n",
    "from kapre.time_frequency import Melspectrogram, Spectrogram"
   ]
  },
  {
   "cell_type": "code",
   "execution_count": 10,
   "metadata": {},
   "outputs": [],
   "source": [
    "from tensorflow.keras.models import Model\n",
    "from tensorflow.keras.models import Sequential\n",
    "\n",
    "from tensorflow.keras import layers as Layers\n",
    "from tensorflow.keras import backend as K\n"
   ]
  },
  {
   "cell_type": "code",
   "execution_count": 50,
   "metadata": {},
   "outputs": [],
   "source": [
    "from kapre.utils import Normalization2D"
   ]
  },
  {
   "cell_type": "code",
   "execution_count": 68,
   "metadata": {},
   "outputs": [],
   "source": [
    "#self-attention LSTM\n",
    "#nCategs=36\n",
    "sr=16000\n",
    "iLen=16000\n",
    "#from keras import layers as L\n",
    "\n",
    "# ### Model z atencja\n",
    "# if modelType != \"model-attRNN\":\n",
    "#     model = AttRNNSpeechModel(nCategs, samplingrate = sr, inputLength = None)#, rnn_func=L.LSTM)\n",
    "# else:\n",
    "# ### Model bez atencji\n",
    "#     model = RNNSpeechModel(nCategs, samplingrate = sr, inputLength = None)#, rnn_func=L.LSTM)\n",
    "\n",
    "### My Model\n",
    "model = Sequential()\n",
    "model.add(Layers.Reshape((1, -1)))\n",
    "model.add(Melspectrogram(n_dft=1024, n_hop=128, input_shape=(1, iLen),\n",
    "               padding='same', sr=sr, n_mels=80,\n",
    "               fmin=40.0, fmax=sr / 2, power_melgram=1.0,\n",
    "               return_decibel_melgram=True, trainable_fb=False,\n",
    "               trainable_kernel=False,\n",
    "               name='mel_stft'))\n",
    "model.add(Normalization2D(int_axis=0))\n",
    "model.add(Layers.Lambda(lambda q: K.squeeze(q, -1), name='squeeze_last_dim'))\n",
    "model.add(Layers.SimpleRNN(64, return_sequences=True))\n",
    "model.add(Layers.Flatten())\n",
    "model.add(Layers.Dense(64, activation='relu'))\n",
    "model.add(Layers.Dense(32, activation='relu'))\n",
    "model.add(Layers.Dense(nCategs, activation='softmax'))\n",
    "\n",
    "model.compile(optimizer='adam', loss=['sparse_categorical_crossentropy'], metrics=['sparse_categorical_accuracy'])\n",
    "# model.summary()"
   ]
  },
  {
   "cell_type": "code",
   "execution_count": 56,
   "metadata": {},
   "outputs": [
    {
     "ename": "ValueError",
     "evalue": "This model has not yet been built. Build the model first by calling `build()` or calling `fit()` with some data, or specify an `input_shape` argument in the first layer(s) for automatic build.",
     "output_type": "error",
     "traceback": [
      "\u001b[1;31m---------------------------------------------------------------------------\u001b[0m",
      "\u001b[1;31mValueError\u001b[0m                                Traceback (most recent call last)",
      "\u001b[1;32m~\\AppData\\Local\\Temp\\ipykernel_19996\\3470139634.py\u001b[0m in \u001b[0;36m<module>\u001b[1;34m\u001b[0m\n\u001b[1;32m----> 1\u001b[1;33m \u001b[0mmodel\u001b[0m\u001b[1;33m.\u001b[0m\u001b[0msummary\u001b[0m\u001b[1;33m(\u001b[0m\u001b[1;33m)\u001b[0m\u001b[1;33m\u001b[0m\u001b[1;33m\u001b[0m\u001b[0m\n\u001b[0m",
      "\u001b[1;32mD:\\Anaconda\\envs\\rnn\\lib\\site-packages\\tensorflow\\python\\keras\\engine\\training.py\u001b[0m in \u001b[0;36msummary\u001b[1;34m(self, line_length, positions, print_fn)\u001b[0m\n\u001b[0;32m   2347\u001b[0m     \"\"\"\n\u001b[0;32m   2348\u001b[0m     \u001b[1;32mif\u001b[0m \u001b[1;32mnot\u001b[0m \u001b[0mself\u001b[0m\u001b[1;33m.\u001b[0m\u001b[0mbuilt\u001b[0m\u001b[1;33m:\u001b[0m\u001b[1;33m\u001b[0m\u001b[1;33m\u001b[0m\u001b[0m\n\u001b[1;32m-> 2349\u001b[1;33m       raise ValueError('This model has not yet been built. '\n\u001b[0m\u001b[0;32m   2350\u001b[0m                        \u001b[1;34m'Build the model first by calling `build()` or calling '\u001b[0m\u001b[1;33m\u001b[0m\u001b[1;33m\u001b[0m\u001b[0m\n\u001b[0;32m   2351\u001b[0m                        \u001b[1;34m'`fit()` with some data, or specify '\u001b[0m\u001b[1;33m\u001b[0m\u001b[1;33m\u001b[0m\u001b[0m\n",
      "\u001b[1;31mValueError\u001b[0m: This model has not yet been built. Build the model first by calling `build()` or calling `fit()` with some data, or specify an `input_shape` argument in the first layer(s) for automatic build."
     ]
    }
   ],
   "source": [
    "model.summary()"
   ]
  },
  {
   "cell_type": "code",
   "execution_count": 11,
   "metadata": {},
   "outputs": [
    {
     "name": "stdout",
     "output_type": "stream",
     "text": [
      "Model: \"functional_1\"\n",
      "__________________________________________________________________________________________________\n",
      "Layer (type)                    Output Shape         Param #     Connected to                     \n",
      "==================================================================================================\n",
      "input (InputLayer)              [(None, None)]       0                                            \n",
      "__________________________________________________________________________________________________\n",
      "reshape_3 (Reshape)             (None, 1, None)      0           input[0][0]                      \n",
      "__________________________________________________________________________________________________\n",
      "mel_stft (Melspectrogram)       (None, 80, None, 1)  1091664     reshape_3[0][0]                  \n",
      "__________________________________________________________________________________________________\n",
      "mel_stft_norm (Normalization2D) (None, 80, None, 1)  0           mel_stft[0][0]                   \n",
      "__________________________________________________________________________________________________\n",
      "permute_3 (Permute)             (None, None, 80, 1)  0           mel_stft_norm[0][0]              \n",
      "__________________________________________________________________________________________________\n",
      "conv2d_6 (Conv2D)               (None, None, 80, 10) 60          permute_3[0][0]                  \n",
      "__________________________________________________________________________________________________\n",
      "batch_normalization_6 (BatchNor (None, None, 80, 10) 40          conv2d_6[0][0]                   \n",
      "__________________________________________________________________________________________________\n",
      "conv2d_7 (Conv2D)               (None, None, 80, 1)  51          batch_normalization_6[0][0]      \n",
      "__________________________________________________________________________________________________\n",
      "batch_normalization_7 (BatchNor (None, None, 80, 1)  4           conv2d_7[0][0]                   \n",
      "__________________________________________________________________________________________________\n",
      "squeeze_last_dim (Lambda)       (None, None, 80)     0           batch_normalization_7[0][0]      \n",
      "__________________________________________________________________________________________________\n",
      "bidirectional_6 (Bidirectional) (None, None, 128)    74240       squeeze_last_dim[0][0]           \n",
      "__________________________________________________________________________________________________\n",
      "bidirectional_7 (Bidirectional) (None, None, 128)    98816       bidirectional_6[0][0]            \n",
      "__________________________________________________________________________________________________\n",
      "lambda (Lambda)                 (None, 128)          0           bidirectional_7[0][0]            \n",
      "__________________________________________________________________________________________________\n",
      "dense_9 (Dense)                 (None, 128)          16512       lambda[0][0]                     \n",
      "__________________________________________________________________________________________________\n",
      "dot (Dot)                       (None, None)         0           dense_9[0][0]                    \n",
      "                                                                 bidirectional_7[0][0]            \n",
      "__________________________________________________________________________________________________\n",
      "attSoftmax (Softmax)            (None, None)         0           dot[0][0]                        \n",
      "__________________________________________________________________________________________________\n",
      "dot_1 (Dot)                     (None, 128)          0           attSoftmax[0][0]                 \n",
      "                                                                 bidirectional_7[0][0]            \n",
      "__________________________________________________________________________________________________\n",
      "dense_10 (Dense)                (None, 64)           8256        dot_1[0][0]                      \n",
      "__________________________________________________________________________________________________\n",
      "dense_11 (Dense)                (None, 32)           2080        dense_10[0][0]                   \n",
      "__________________________________________________________________________________________________\n",
      "output (Dense)                  (None, 36)           1188        dense_11[0][0]                   \n",
      "==================================================================================================\n",
      "Total params: 1,292,911\n",
      "Trainable params: 201,225\n",
      "Non-trainable params: 1,091,686\n",
      "__________________________________________________________________________________________________\n"
     ]
    }
   ],
   "source": [
    "#self-attention LSTM\n",
    "#nCategs=36\n",
    "#sr=16000\n",
    "#iLen=16000\n",
    "#from keras import layers as L\n",
    "\n",
    "### Model z atencja\n",
    "if modelType != \"model-attRNN\":\n",
    "    model = AttRNNSpeechModel(nCategs, samplingrate = sr, inputLength = None)#, rnn_func=L.LSTM)\n",
    "else:\n",
    "### Model bez atencji\n",
    "    model = RNNSpeechModel(nCategs, samplingrate = sr, inputLength = None)#, rnn_func=L.LSTM)\n",
    "\n",
    "model.compile(optimizer='adam', loss=['sparse_categorical_crossentropy'], metrics=['sparse_categorical_accuracy'])\n",
    "model.summary()"
   ]
  },
  {
   "cell_type": "code",
   "execution_count": 32,
   "metadata": {},
   "outputs": [],
   "source": [
    "import math\n",
    "from tensorflow.keras.callbacks import EarlyStopping, ModelCheckpoint, LearningRateScheduler\n",
    "def step_decay(epoch):\n",
    "    initial_lrate = 0.001\n",
    "    drop = 0.4\n",
    "    epochs_drop = 15.0\n",
    "    lrate = initial_lrate * math.pow(drop,  \n",
    "            math.floor((1+epoch)/epochs_drop))\n",
    "    \n",
    "    if (lrate < 4e-5):\n",
    "        lrate = 4e-5\n",
    "      \n",
    "    print('Changing learning rate to {}'.format(lrate))\n",
    "    return lrate\n",
    "lrate = LearningRateScheduler(step_decay)"
   ]
  },
  {
   "cell_type": "code",
   "execution_count": 69,
   "metadata": {},
   "outputs": [
    {
     "name": "stdout",
     "output_type": "stream",
     "text": [
      "Changing learning rate to 0.001\n",
      "Epoch 1/60\n",
      "\n",
      "Epoch 00001: val_sparse_categorical_accuracy improved from -inf to 0.40052, saving model to my-model-simplernn.h5\n",
      "2651/2651 - 304s - loss: 2.4029 - sparse_categorical_accuracy: 0.3104 - val_loss: 2.0230 - val_sparse_categorical_accuracy: 0.4005\n",
      "Changing learning rate to 0.001\n",
      "Epoch 2/60\n",
      "\n",
      "Epoch 00002: val_sparse_categorical_accuracy improved from 0.40052 to 0.46051, saving model to my-model-simplernn.h5\n",
      "2651/2651 - 314s - loss: 1.9313 - sparse_categorical_accuracy: 0.4282 - val_loss: 1.7963 - val_sparse_categorical_accuracy: 0.4605\n",
      "Changing learning rate to 0.001\n",
      "Epoch 3/60\n",
      "\n",
      "Epoch 00003: val_sparse_categorical_accuracy improved from 0.46051 to 0.46815, saving model to my-model-simplernn.h5\n",
      "2651/2651 - 306s - loss: 1.8697 - sparse_categorical_accuracy: 0.4456 - val_loss: 1.7761 - val_sparse_categorical_accuracy: 0.4681\n",
      "Changing learning rate to 0.001\n",
      "Epoch 4/60\n",
      "\n",
      "Epoch 00004: val_sparse_categorical_accuracy improved from 0.46815 to 0.49699, saving model to my-model-simplernn.h5\n",
      "2651/2651 - 293s - loss: 1.7654 - sparse_categorical_accuracy: 0.4741 - val_loss: 1.6502 - val_sparse_categorical_accuracy: 0.4970\n",
      "Changing learning rate to 0.001\n",
      "Epoch 5/60\n",
      "\n",
      "Epoch 00005: val_sparse_categorical_accuracy improved from 0.49699 to 0.50965, saving model to my-model-simplernn.h5\n",
      "2651/2651 - 288s - loss: 1.6971 - sparse_categorical_accuracy: 0.4932 - val_loss: 1.6262 - val_sparse_categorical_accuracy: 0.5096\n",
      "Changing learning rate to 0.001\n",
      "Epoch 6/60\n",
      "\n",
      "Epoch 00006: val_sparse_categorical_accuracy did not improve from 0.50965\n",
      "2651/2651 - 286s - loss: 1.6732 - sparse_categorical_accuracy: 0.4994 - val_loss: 1.6617 - val_sparse_categorical_accuracy: 0.5032\n",
      "Changing learning rate to 0.001\n",
      "Epoch 7/60\n",
      "\n",
      "Epoch 00007: val_sparse_categorical_accuracy did not improve from 0.50965\n",
      "2651/2651 - 288s - loss: 1.6641 - sparse_categorical_accuracy: 0.5009 - val_loss: 1.6464 - val_sparse_categorical_accuracy: 0.5002\n",
      "Changing learning rate to 0.001\n",
      "Epoch 8/60\n",
      "\n",
      "Epoch 00008: val_sparse_categorical_accuracy improved from 0.50965 to 0.52492, saving model to my-model-simplernn.h5\n",
      "2651/2651 - 283s - loss: 1.6329 - sparse_categorical_accuracy: 0.5121 - val_loss: 1.5712 - val_sparse_categorical_accuracy: 0.5249\n",
      "Changing learning rate to 0.001\n",
      "Epoch 9/60\n",
      "\n",
      "Epoch 00009: val_sparse_categorical_accuracy did not improve from 0.52492\n",
      "2651/2651 - 282s - loss: 1.6155 - sparse_categorical_accuracy: 0.5159 - val_loss: 1.5886 - val_sparse_categorical_accuracy: 0.5201\n",
      "Changing learning rate to 0.001\n",
      "Epoch 10/60\n",
      "\n",
      "Epoch 00010: val_sparse_categorical_accuracy improved from 0.52492 to 0.53246, saving model to my-model-simplernn.h5\n",
      "2651/2651 - 279s - loss: 1.5776 - sparse_categorical_accuracy: 0.5251 - val_loss: 1.5373 - val_sparse_categorical_accuracy: 0.5325\n",
      "Changing learning rate to 0.001\n",
      "Epoch 11/60\n",
      "\n",
      "Epoch 00011: val_sparse_categorical_accuracy improved from 0.53246 to 0.54572, saving model to my-model-simplernn.h5\n",
      "2651/2651 - 272s - loss: 1.5413 - sparse_categorical_accuracy: 0.5362 - val_loss: 1.4783 - val_sparse_categorical_accuracy: 0.5457\n",
      "Changing learning rate to 0.001\n",
      "Epoch 12/60\n",
      "\n",
      "Epoch 00012: val_sparse_categorical_accuracy did not improve from 0.54572\n",
      "2651/2651 - 263s - loss: 1.5239 - sparse_categorical_accuracy: 0.5398 - val_loss: 1.6014 - val_sparse_categorical_accuracy: 0.5107\n",
      "Changing learning rate to 0.001\n",
      "Epoch 13/60\n",
      "\n",
      "Epoch 00013: val_sparse_categorical_accuracy did not improve from 0.54572\n",
      "2651/2651 - 257s - loss: 1.5411 - sparse_categorical_accuracy: 0.5350 - val_loss: 1.5490 - val_sparse_categorical_accuracy: 0.5331\n",
      "Changing learning rate to 0.001\n",
      "Epoch 14/60\n",
      "\n",
      "Epoch 00014: val_sparse_categorical_accuracy did not improve from 0.54572\n",
      "2651/2651 - 268s - loss: 1.5340 - sparse_categorical_accuracy: 0.5342 - val_loss: 1.5171 - val_sparse_categorical_accuracy: 0.5373\n",
      "Changing learning rate to 0.0004\n",
      "Epoch 15/60\n",
      "\n",
      "Epoch 00015: val_sparse_categorical_accuracy improved from 0.54572 to 0.58300, saving model to my-model-simplernn.h5\n",
      "2651/2651 - 262s - loss: 1.3766 - sparse_categorical_accuracy: 0.5827 - val_loss: 1.3819 - val_sparse_categorical_accuracy: 0.5830\n",
      "Changing learning rate to 0.0004\n",
      "Epoch 16/60\n",
      "\n",
      "Epoch 00016: val_sparse_categorical_accuracy improved from 0.58300 to 0.59636, saving model to my-model-simplernn.h5\n",
      "2651/2651 - 264s - loss: 1.3126 - sparse_categorical_accuracy: 0.6007 - val_loss: 1.3332 - val_sparse_categorical_accuracy: 0.5964\n",
      "Changing learning rate to 0.0004\n",
      "Epoch 17/60\n",
      "\n",
      "Epoch 00017: val_sparse_categorical_accuracy did not improve from 0.59636\n",
      "2651/2651 - 269s - loss: 1.2872 - sparse_categorical_accuracy: 0.6084 - val_loss: 1.3487 - val_sparse_categorical_accuracy: 0.5946\n",
      "Changing learning rate to 0.0004\n",
      "Epoch 18/60\n",
      "\n",
      "Epoch 00018: val_sparse_categorical_accuracy did not improve from 0.59636\n",
      "2651/2651 - 269s - loss: 1.2745 - sparse_categorical_accuracy: 0.6117 - val_loss: 1.3398 - val_sparse_categorical_accuracy: 0.5876\n",
      "Changing learning rate to 0.0004\n",
      "Epoch 19/60\n",
      "\n",
      "Epoch 00019: val_sparse_categorical_accuracy did not improve from 0.59636\n",
      "2651/2651 - 268s - loss: 1.2486 - sparse_categorical_accuracy: 0.6198 - val_loss: 1.3196 - val_sparse_categorical_accuracy: 0.5958\n",
      "Changing learning rate to 0.0004\n",
      "Epoch 20/60\n",
      "\n",
      "Epoch 00020: val_sparse_categorical_accuracy improved from 0.59636 to 0.59827, saving model to my-model-simplernn.h5\n",
      "2651/2651 - 268s - loss: 1.2237 - sparse_categorical_accuracy: 0.6252 - val_loss: 1.3258 - val_sparse_categorical_accuracy: 0.5983\n",
      "Changing learning rate to 0.0004\n",
      "Epoch 21/60\n",
      "\n",
      "Epoch 00021: val_sparse_categorical_accuracy did not improve from 0.59827\n",
      "2651/2651 - 269s - loss: 1.2137 - sparse_categorical_accuracy: 0.6310 - val_loss: 1.3242 - val_sparse_categorical_accuracy: 0.5956\n",
      "Changing learning rate to 0.0004\n",
      "Epoch 22/60\n",
      "\n",
      "Epoch 00022: val_sparse_categorical_accuracy did not improve from 0.59827\n",
      "2651/2651 - 269s - loss: 1.2051 - sparse_categorical_accuracy: 0.6302 - val_loss: 1.3393 - val_sparse_categorical_accuracy: 0.5965\n",
      "Changing learning rate to 0.0004\n",
      "Epoch 23/60\n",
      "\n",
      "Epoch 00023: val_sparse_categorical_accuracy did not improve from 0.59827\n",
      "2651/2651 - 269s - loss: 1.2167 - sparse_categorical_accuracy: 0.6279 - val_loss: 1.3197 - val_sparse_categorical_accuracy: 0.5978\n",
      "Changing learning rate to 0.0004\n",
      "Epoch 24/60\n",
      "\n",
      "Epoch 00024: val_sparse_categorical_accuracy improved from 0.59827 to 0.60219, saving model to my-model-simplernn.h5\n",
      "2651/2651 - 264s - loss: 1.2092 - sparse_categorical_accuracy: 0.6297 - val_loss: 1.3147 - val_sparse_categorical_accuracy: 0.6022\n",
      "Changing learning rate to 0.0004\n",
      "Epoch 25/60\n",
      "\n",
      "Epoch 00025: val_sparse_categorical_accuracy did not improve from 0.60219\n",
      "2651/2651 - 272s - loss: 1.1988 - sparse_categorical_accuracy: 0.6347 - val_loss: 1.3357 - val_sparse_categorical_accuracy: 0.5950\n",
      "Changing learning rate to 0.0004\n",
      "Epoch 26/60\n",
      "\n",
      "Epoch 00026: val_sparse_categorical_accuracy did not improve from 0.60219\n",
      "2651/2651 - 352s - loss: 1.2017 - sparse_categorical_accuracy: 0.6328 - val_loss: 1.3243 - val_sparse_categorical_accuracy: 0.6018\n",
      "Changing learning rate to 0.0004\n",
      "Epoch 27/60\n",
      "\n",
      "Epoch 00027: val_sparse_categorical_accuracy improved from 0.60219 to 0.60420, saving model to my-model-simplernn.h5\n",
      "2651/2651 - 342s - loss: 1.1899 - sparse_categorical_accuracy: 0.6359 - val_loss: 1.2916 - val_sparse_categorical_accuracy: 0.6042\n",
      "Changing learning rate to 0.0004\n",
      "Epoch 28/60\n",
      "\n",
      "Epoch 00028: val_sparse_categorical_accuracy improved from 0.60420 to 0.60490, saving model to my-model-simplernn.h5\n",
      "2651/2651 - 330s - loss: 1.1826 - sparse_categorical_accuracy: 0.6371 - val_loss: 1.3103 - val_sparse_categorical_accuracy: 0.6049\n",
      "Changing learning rate to 0.0004\n",
      "Epoch 29/60\n",
      "\n",
      "Epoch 00029: val_sparse_categorical_accuracy did not improve from 0.60490\n",
      "2651/2651 - 323s - loss: 1.1703 - sparse_categorical_accuracy: 0.6420 - val_loss: 1.3331 - val_sparse_categorical_accuracy: 0.5979\n",
      "Changing learning rate to 0.00016000000000000004\n",
      "Epoch 30/60\n",
      "\n",
      "Epoch 00030: val_sparse_categorical_accuracy improved from 0.60490 to 0.61756, saving model to my-model-simplernn.h5\n",
      "2651/2651 - 333s - loss: 1.1041 - sparse_categorical_accuracy: 0.6609 - val_loss: 1.2569 - val_sparse_categorical_accuracy: 0.6176\n",
      "Changing learning rate to 0.00016000000000000004\n",
      "Epoch 31/60\n"
     ]
    },
    {
     "name": "stdout",
     "output_type": "stream",
     "text": [
      "\n",
      "Epoch 00031: val_sparse_categorical_accuracy improved from 0.61756 to 0.62048, saving model to my-model-simplernn.h5\n",
      "2651/2651 - 343s - loss: 1.0881 - sparse_categorical_accuracy: 0.6662 - val_loss: 1.2588 - val_sparse_categorical_accuracy: 0.6205\n",
      "Changing learning rate to 0.00016000000000000004\n",
      "Epoch 32/60\n",
      "\n",
      "Epoch 00032: val_sparse_categorical_accuracy improved from 0.62048 to 0.62470, saving model to my-model-simplernn.h5\n",
      "2651/2651 - 332s - loss: 1.0716 - sparse_categorical_accuracy: 0.6708 - val_loss: 1.2538 - val_sparse_categorical_accuracy: 0.6247\n",
      "Changing learning rate to 0.00016000000000000004\n",
      "Epoch 33/60\n",
      "\n",
      "Epoch 00033: val_sparse_categorical_accuracy improved from 0.62470 to 0.62771, saving model to my-model-simplernn.h5\n",
      "2651/2651 - 324s - loss: 1.0597 - sparse_categorical_accuracy: 0.6737 - val_loss: 1.2569 - val_sparse_categorical_accuracy: 0.6277\n",
      "Changing learning rate to 0.00016000000000000004\n",
      "Epoch 34/60\n",
      "\n",
      "Epoch 00034: val_sparse_categorical_accuracy did not improve from 0.62771\n",
      "2651/2651 - 342s - loss: 1.0457 - sparse_categorical_accuracy: 0.6785 - val_loss: 1.2573 - val_sparse_categorical_accuracy: 0.6255\n",
      "Changing learning rate to 0.00016000000000000004\n",
      "Epoch 35/60\n",
      "\n",
      "Epoch 00035: val_sparse_categorical_accuracy did not improve from 0.62771\n",
      "2651/2651 - 323s - loss: 1.0236 - sparse_categorical_accuracy: 0.6862 - val_loss: 1.2459 - val_sparse_categorical_accuracy: 0.6259\n",
      "Changing learning rate to 0.00016000000000000004\n",
      "Epoch 36/60\n",
      "\n",
      "Epoch 00036: val_sparse_categorical_accuracy improved from 0.62771 to 0.63103, saving model to my-model-simplernn.h5\n",
      "2651/2651 - 329s - loss: 1.0045 - sparse_categorical_accuracy: 0.6910 - val_loss: 1.2312 - val_sparse_categorical_accuracy: 0.6310\n",
      "Changing learning rate to 0.00016000000000000004\n",
      "Epoch 37/60\n",
      "\n",
      "Epoch 00037: val_sparse_categorical_accuracy did not improve from 0.63103\n",
      "2651/2651 - 334s - loss: 0.9969 - sparse_categorical_accuracy: 0.6930 - val_loss: 1.2536 - val_sparse_categorical_accuracy: 0.6287\n",
      "Changing learning rate to 0.00016000000000000004\n",
      "Epoch 38/60\n",
      "\n",
      "Epoch 00038: val_sparse_categorical_accuracy did not improve from 0.63103\n",
      "2651/2651 - 309s - loss: 1.0007 - sparse_categorical_accuracy: 0.6932 - val_loss: 1.2457 - val_sparse_categorical_accuracy: 0.6282\n",
      "Changing learning rate to 0.00016000000000000004\n",
      "Epoch 39/60\n",
      "\n",
      "Epoch 00039: val_sparse_categorical_accuracy did not improve from 0.63103\n",
      "2651/2651 - 299s - loss: 0.9943 - sparse_categorical_accuracy: 0.6955 - val_loss: 1.2517 - val_sparse_categorical_accuracy: 0.6260\n",
      "Changing learning rate to 0.00016000000000000004\n",
      "Epoch 40/60\n",
      "\n",
      "Epoch 00040: val_sparse_categorical_accuracy did not improve from 0.63103\n",
      "2651/2651 - 296s - loss: 0.9935 - sparse_categorical_accuracy: 0.6939 - val_loss: 1.2503 - val_sparse_categorical_accuracy: 0.6236\n",
      "Changing learning rate to 0.00016000000000000004\n",
      "Epoch 41/60\n",
      "\n",
      "Epoch 00041: val_sparse_categorical_accuracy did not improve from 0.63103\n",
      "2651/2651 - 294s - loss: 0.9753 - sparse_categorical_accuracy: 0.7008 - val_loss: 1.2636 - val_sparse_categorical_accuracy: 0.6240\n",
      "Changing learning rate to 0.00016000000000000004\n",
      "Epoch 42/60\n",
      "\n",
      "Epoch 00042: val_sparse_categorical_accuracy did not improve from 0.63103\n",
      "2651/2651 - 296s - loss: 0.9793 - sparse_categorical_accuracy: 0.6964 - val_loss: 1.2627 - val_sparse_categorical_accuracy: 0.6198\n",
      "Changing learning rate to 0.00016000000000000004\n",
      "Epoch 43/60\n",
      "\n",
      "Epoch 00043: val_sparse_categorical_accuracy did not improve from 0.63103\n",
      "2651/2651 - 302s - loss: 0.9776 - sparse_categorical_accuracy: 0.6991 - val_loss: 1.2603 - val_sparse_categorical_accuracy: 0.6221\n",
      "Changing learning rate to 0.00016000000000000004\n",
      "Epoch 44/60\n",
      "\n",
      "Epoch 00044: val_sparse_categorical_accuracy did not improve from 0.63103\n",
      "2651/2651 - 304s - loss: 0.9707 - sparse_categorical_accuracy: 0.7012 - val_loss: 1.2563 - val_sparse_categorical_accuracy: 0.6263\n",
      "Changing learning rate to 6.400000000000001e-05\n",
      "Epoch 45/60\n",
      "\n",
      "Epoch 00045: val_sparse_categorical_accuracy did not improve from 0.63103\n",
      "2651/2651 - 301s - loss: 0.9359 - sparse_categorical_accuracy: 0.7129 - val_loss: 1.2495 - val_sparse_categorical_accuracy: 0.6271\n",
      "Changing learning rate to 6.400000000000001e-05\n",
      "Epoch 46/60\n",
      "Restoring model weights from the end of the best epoch.\n",
      "\n",
      "Epoch 00046: val_sparse_categorical_accuracy did not improve from 0.63103\n",
      "2651/2651 - 295s - loss: 0.9309 - sparse_categorical_accuracy: 0.7140 - val_loss: 1.2455 - val_sparse_categorical_accuracy: 0.6230\n",
      "Epoch 00046: early stopping\n"
     ]
    }
   ],
   "source": [
    "earlystopper = EarlyStopping(monitor='val_sparse_categorical_accuracy', patience=10,\n",
    "                             verbose=1, restore_best_weights=True)\n",
    "checkpointer = ModelCheckpoint(modelType + \".h5\", monitor='val_sparse_categorical_accuracy', verbose=1, save_best_only=True)\n",
    "\n",
    "results = model.fit(trainGen, validation_data=valGen, epochs=60, use_multiprocessing=False, workers=4, verbose=2,\n",
    "                    callbacks=[earlystopper, checkpointer, lrate])\n",
    "\n",
    "model.save(modelType + \".h5\")"
   ]
  },
  {
   "cell_type": "code",
   "execution_count": 70,
   "metadata": {},
   "outputs": [
    {
     "data": {
      "image/png": "[encoded data removed]",
      "text/plain": [
       "<Figure size 432x288 with 1 Axes>"
      ]
     },
     "metadata": {
      "needs_background": "light"
     },
     "output_type": "display_data"
    },
    {
     "data": {
      "image/png": "[encoded data removed]",
      "text/plain": [
       "<Figure size 432x288 with 1 Axes>"
      ]
     },
     "metadata": {
      "needs_background": "light"
     },
     "output_type": "display_data"
    }
   ],
   "source": [
    "# summarize history for categorical accuracy\n",
    "plt.plot(results.history['sparse_categorical_accuracy'])\n",
    "plt.plot(results.history['val_sparse_categorical_accuracy'])\n",
    "plt.title('Categorical accuracy')\n",
    "plt.ylabel('accuracy')\n",
    "plt.xlabel('epoch')\n",
    "plt.legend(['train', 'test'], loc='upper left')\n",
    "plt.show()\n",
    "# summarize history for loss\n",
    "plt.plot(results.history['loss'])\n",
    "plt.plot(results.history['val_loss'])\n",
    "plt.title('model loss')\n",
    "plt.ylabel('loss')\n",
    "plt.xlabel('epoch')\n",
    "plt.legend(['train', 'test'], loc='upper left')\n",
    "plt.show()"
   ]
  },
  {
   "cell_type": "code",
   "execution_count": null,
   "metadata": {},
   "outputs": [],
   "source": [
    "# load best model according to cross-validation - model-attRNN\n",
    "# model = load_model(modelType + \".h5\", custom_objects={'Melspectrogram': Melspectrogram, 'Normalization2D': Normalization2D })\n",
    "model.load_weights(modelType + \".h5\")"
   ]
  },
  {
   "cell_type": "code",
   "execution_count": 16,
   "metadata": {},
   "outputs": [],
   "source": [
    "#read all test data\n",
    "x_test, y_test = testGen.__getitem__(0)"
   ]
  },
  {
   "cell_type": "code",
   "execution_count": 19,
   "metadata": {},
   "outputs": [
    {
     "data": {
      "text/plain": [
       "(11005, 16000)"
      ]
     },
     "execution_count": 19,
     "metadata": {},
     "output_type": "execute_result"
    }
   ],
   "source": [
    "x_test.shape"
   ]
  },
  {
   "cell_type": "code",
   "execution_count": null,
   "metadata": {},
   "outputs": [],
   "source": [
    "valEval = model.evaluate(valGen, use_multiprocessing=False, workers=4,verbose=0)\n",
    "trainEval = model.evaluate(trainGen, use_multiprocessing=False, workers=4,verbose=0)\n",
    "testEval = model.evaluate(x_test, y_test, verbose=0)\n",
    "print('Evaluation scores: \\nMetrics: {} \\nTrain: {} \\nValidation: {} \\nTest: {}'.format(model.metrics_names, trainEval, valEval, testEval) )"
   ]
  },
  {
   "cell_type": "code",
   "execution_count": null,
   "metadata": {},
   "outputs": [],
   "source": [
    "#35word, v2\n",
    "classes = ['nine', 'yes', 'no', 'up', 'down', 'left', 'right', 'on', 'off', 'stop', 'go',\n",
    "           'zero', 'one', 'two', 'three', 'four', 'five', 'six', \n",
    "           'seven',  'eight', 'backward', 'bed', 'bird', 'cat', 'dog',\n",
    "           'follow', 'forward', 'happy', 'house', 'learn', 'marvin', 'sheila', 'tree',\n",
    "           'visual', 'wow']"
   ]
  },
  {
   "cell_type": "code",
   "execution_count": 9,
   "metadata": {},
   "outputs": [
    {
     "data": {
      "text/plain": [
       "['2.3.4', '0.2.0', '1.3.5', '0.9.1']"
      ]
     },
     "execution_count": 9,
     "metadata": {},
     "output_type": "execute_result"
    }
   ],
   "source": [
    "import pandas as pd\n",
    "import kapre\n",
    "from kapre.time_frequency import Melspectrogram\n",
    "from kapre.utils import Normalization2D\n",
    "[tf.__version__, kapre.__version__, pd.__version__, librosa.__version__]"
   ]
  },
  {
   "cell_type": "markdown",
   "metadata": {},
   "source": [
    "# Save model to .pb"
   ]
  },
  {
   "cell_type": "code",
   "execution_count": 10,
   "metadata": {},
   "outputs": [],
   "source": [
    "#model = SpeechModels.AttRNNSpeechModel(nCategs, samplingrate = sr, inputLength = None)#, rnn_func=L.LSTM)\n",
    "#model.load_weights(modelType + \".h5\")\n",
    "\n",
    "model = load_model(modelType + \".h5\", custom_objects={'Melspectrogram': Melspectrogram, 'Normalization2D': Normalization2D })"
   ]
  },
  {
   "cell_type": "code",
   "execution_count": 71,
   "metadata": {},
   "outputs": [
    {
     "name": "stdout",
     "output_type": "stream",
     "text": [
      "WARNING:tensorflow:From D:\\Anaconda\\envs\\rnn\\lib\\site-packages\\tensorflow\\python\\training\\tracking\\tracking.py:111: Model.state_updates (from tensorflow.python.keras.engine.training) is deprecated and will be removed in a future version.\n",
      "Instructions for updating:\n",
      "This property should not be used in TensorFlow 2.0, as updates are applied automatically.\n",
      "WARNING:tensorflow:From D:\\Anaconda\\envs\\rnn\\lib\\site-packages\\tensorflow\\python\\training\\tracking\\tracking.py:111: Layer.updates (from tensorflow.python.keras.engine.base_layer) is deprecated and will be removed in a future version.\n",
      "Instructions for updating:\n",
      "This property should not be used in TensorFlow 2.0, as updates are applied automatically.\n",
      "INFO:tensorflow:Assets written to: my-model-simplernn/1/assets\n"
     ]
    }
   ],
   "source": [
    "tf.saved_model.save(model, modelType + \"/1/\")\n"
   ]
  },
  {
   "cell_type": "code",
   "execution_count": null,
   "metadata": {},
   "outputs": [],
   "source": []
  }
 ],
 "metadata": {
  "interpreter": {
   "hash": "f71222efeac2516dbe25f613e7d6d002b5e312af084a48149620fcb4a97a32e9"
  },
  "kernelspec": {
   "display_name": "Python 3 (ipykernel)",
   "language": "python",
   "name": "python3"
  },
  "language_info": {
   "codemirror_mode": {
    "name": "ipython",
    "version": 3
   },
   "file_extension": ".py",
   "mimetype": "text/x-python",
   "name": "python",
   "nbconvert_exporter": "python",
   "pygments_lexer": "ipython3",
   "version": "3.7.13"
  }
 },
 "nbformat": 4,
 "nbformat_minor": 2
}
