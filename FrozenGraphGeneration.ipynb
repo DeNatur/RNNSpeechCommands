{
 "cells": [
  {
   "cell_type": "code",
   "execution_count": 1,
   "metadata": {},
   "outputs": [],
   "source": [
    "modelType = \"my-model-rnn\" # \"model-RNN\""
   ]
  },
  {
   "cell_type": "code",
   "execution_count": null,
   "metadata": {},
   "outputs": [],
   "source": [
    "!wget -q https://raw.githubusercontent.com/DeNatur/RNNSpeechCommands/main/GoogleCommandsRepository.py\n",
    "!wget -q https://raw.githubusercontent.com/DeNatur/RNNSpeechCommands/main/RNNModels.py\n",
    "!wget -q https://raw.githubusercontent.com/DeNatur/RNNSpeechCommands/main/SequenceGenerator.py\n",
    "!wget -q https://raw.githubusercontent.com/DeNatur/RNNSpeechCommands/main/audioUtils.py\n",
    "!wget -q https://raw.githubusercontent.com/DeNatur/RNNSpeechCommands/main/requirements.txt\n",
    "!pip install -r requirements.txt"
   ]
  },
  {
   "cell_type": "code",
   "execution_count": 2,
   "metadata": {},
   "outputs": [
    {
     "name": "stdout",
     "output_type": "stream",
     "text": [
      "[name: \"/device:CPU:0\"\n",
      "device_type: \"CPU\"\n",
      "memory_limit: 268435456\n",
      "locality {\n",
      "}\n",
      "incarnation: 6137036330850633076\n",
      ", name: \"/device:XLA_CPU:0\"\n",
      "device_type: \"XLA_CPU\"\n",
      "memory_limit: 17179869184\n",
      "locality {\n",
      "}\n",
      "incarnation: 9924153793718095824\n",
      "physical_device_desc: \"device: XLA_CPU device\"\n",
      ", name: \"/device:GPU:0\"\n",
      "device_type: \"GPU\"\n",
      "memory_limit: 5060693856\n",
      "locality {\n",
      "  bus_id: 1\n",
      "  links {\n",
      "  }\n",
      "}\n",
      "incarnation: 7858340565993830524\n",
      "physical_device_desc: \"device: 0, name: NVIDIA GeForce GTX 1060 6GB, pci bus id: 0000:01:00.0, compute capability: 6.1\"\n",
      ", name: \"/device:XLA_GPU:0\"\n",
      "device_type: \"XLA_GPU\"\n",
      "memory_limit: 17179869184\n",
      "locality {\n",
      "}\n",
      "incarnation: 6510351731995061915\n",
      "physical_device_desc: \"device: XLA_GPU device\"\n",
      "]\n"
     ]
    }
   ],
   "source": [
    "import tensorflow as tf\n",
    "from tensorflow.python.client import device_lib\n",
    "print(device_lib.list_local_devices())"
   ]
  },
  {
   "cell_type": "code",
   "execution_count": 3,
   "metadata": {},
   "outputs": [],
   "source": [
    "import librosa\n",
    "import matplotlib\n",
    "import numpy as np\n",
    "import matplotlib.pyplot as plt\n",
    "%matplotlib inline  \n",
    "\n",
    "import GoogleCommandsRepository\n",
    "import SequenceGenerator\n",
    "# import RNNModels\n",
    "from RNNModels import RNNSpeechModel, AttRNNSpeechModel, my_RNNSpeechModel"
   ]
  },
  {
   "cell_type": "code",
   "execution_count": 4,
   "metadata": {},
   "outputs": [
    {
     "name": "stdout",
     "output_type": "stream",
     "text": [
      "Done preparing Google Speech commands dataset\n"
     ]
    }
   ],
   "source": [
    "# Download and prepare all data\n",
    "gscInfo, nCategs = GoogleCommandsRepository.PrepareGoogleSpeechCmd(task='35word')"
   ]
  },
  {
   "cell_type": "code",
   "execution_count": null,
   "metadata": {},
   "outputs": [],
   "source": [
    "sr = 16000 #we know this one for google audios\n",
    "iLen = 16000\n",
    "trainGen = SequenceGenerator.SequenceGenerator(gscInfo['train']['files'], gscInfo['train']['labels'], shuffle=True)\n",
    "# handle the fact that number of samples in validation may not be multiple of batch_size with shuffle=True\n",
    "valGen   = SequenceGenerator.SequenceGenerator(gscInfo['val']['files'], gscInfo['val']['labels'], shuffle=True)\n",
    "\n",
    "# use batch_size = total number of files to read all test files at once\n",
    "testGen  = SequenceGenerator.SequenceGenerator(gscInfo['test']['files'], gscInfo['test']['labels'], shuffle=False, batch_size=len(gscInfo['test']['files']))\n",
    "testRGen = SequenceGenerator.SequenceGenerator(gscInfo['testREAL']['files'], gscInfo['testREAL']['labels'], shuffle=False, batch_size=len(gscInfo['testREAL']['files']))\n",
    "valGen.__len__()"
   ]
  },
  {
   "cell_type": "code",
   "execution_count": 6,
   "metadata": {},
   "outputs": [
    {
     "data": {
      "text/plain": [
       "array([18, 29, 13, 17,  1, 10, 21, 16,  7, 10,  4, 19, 16, 33,  9, 18, 11,\n",
       "       11, 11,  4, 20, 16, 15,  2, 27, 32, 17, 10,  5,  6, 31,  6])"
      ]
     },
     "execution_count": 6,
     "metadata": {},
     "output_type": "execute_result"
    }
   ],
   "source": [
    "audios, classes = valGen.__getitem__(5)\n",
    "classes"
   ]
  },
  {
   "cell_type": "code",
   "execution_count": 9,
   "metadata": {},
   "outputs": [
    {
     "data": {
      "text/plain": [
       "[<matplotlib.lines.Line2D at 0x262b373c1c8>]"
      ]
     },
     "execution_count": 9,
     "metadata": {},
     "output_type": "execute_result"
    },
    {
     "data": {
      "image/png": "[encoded data removed]",
      "text/plain": [
       "<Figure size 432x288 with 1 Axes>"
      ]
     },
     "metadata": {
      "needs_background": "light"
     },
     "output_type": "display_data"
    }
   ],
   "source": [
    "plt.plot(audios[4])"
   ]
  },
  {
   "cell_type": "code",
   "execution_count": 7,
   "metadata": {},
   "outputs": [],
   "source": [
    "from tensorflow.keras.models import Model, load_model\n",
    "\n",
    "from kapre.time_frequency import Melspectrogram, Spectrogram"
   ]
  },
  {
   "cell_type": "code",
   "execution_count": 11,
   "metadata": {},
   "outputs": [],
   "source": [
    "#self-attention LSTM\n",
    "#nCategs=36\n",
    "#sr=16000\n",
    "#iLen=16000\n",
    "#from keras import layers as L\n",
    "\n",
    "# ### Model z atencja\n",
    "# if modelType != \"model-attRNN\":\n",
    "#     model = AttRNNSpeechModel(nCategs, samplingrate = sr, inputLength = None)#, rnn_func=L.LSTM)\n",
    "# else:\n",
    "# ### Model bez atencji\n",
    "#     model = RNNSpeechModel(nCategs, samplingrate = sr, inputLength = None)#, rnn_func=L.LSTM)\n",
    "\n",
    "### My Model\n",
    "model = my_RNNSpeechModel(nCategs, samplingrate = sr, inputLength = None)#, rnn_func=L.LSTM)\n",
    "\n",
    "model.compile(optimizer='adam', loss=['sparse_categorical_crossentropy'], metrics=['sparse_categorical_accuracy'])\n",
    "# model.summary()"
   ]
  },
  {
   "cell_type": "code",
   "execution_count": 11,
   "metadata": {},
   "outputs": [
    {
     "name": "stdout",
     "output_type": "stream",
     "text": [
      "Model: \"functional_1\"\n",
      "__________________________________________________________________________________________________\n",
      "Layer (type)                    Output Shape         Param #     Connected to                     \n",
      "==================================================================================================\n",
      "input (InputLayer)              [(None, None)]       0                                            \n",
      "__________________________________________________________________________________________________\n",
      "reshape_3 (Reshape)             (None, 1, None)      0           input[0][0]                      \n",
      "__________________________________________________________________________________________________\n",
      "mel_stft (Melspectrogram)       (None, 80, None, 1)  1091664     reshape_3[0][0]                  \n",
      "__________________________________________________________________________________________________\n",
      "mel_stft_norm (Normalization2D) (None, 80, None, 1)  0           mel_stft[0][0]                   \n",
      "__________________________________________________________________________________________________\n",
      "permute_3 (Permute)             (None, None, 80, 1)  0           mel_stft_norm[0][0]              \n",
      "__________________________________________________________________________________________________\n",
      "conv2d_6 (Conv2D)               (None, None, 80, 10) 60          permute_3[0][0]                  \n",
      "__________________________________________________________________________________________________\n",
      "batch_normalization_6 (BatchNor (None, None, 80, 10) 40          conv2d_6[0][0]                   \n",
      "__________________________________________________________________________________________________\n",
      "conv2d_7 (Conv2D)               (None, None, 80, 1)  51          batch_normalization_6[0][0]      \n",
      "__________________________________________________________________________________________________\n",
      "batch_normalization_7 (BatchNor (None, None, 80, 1)  4           conv2d_7[0][0]                   \n",
      "__________________________________________________________________________________________________\n",
      "squeeze_last_dim (Lambda)       (None, None, 80)     0           batch_normalization_7[0][0]      \n",
      "__________________________________________________________________________________________________\n",
      "bidirectional_6 (Bidirectional) (None, None, 128)    74240       squeeze_last_dim[0][0]           \n",
      "__________________________________________________________________________________________________\n",
      "bidirectional_7 (Bidirectional) (None, None, 128)    98816       bidirectional_6[0][0]            \n",
      "__________________________________________________________________________________________________\n",
      "lambda (Lambda)                 (None, 128)          0           bidirectional_7[0][0]            \n",
      "__________________________________________________________________________________________________\n",
      "dense_9 (Dense)                 (None, 128)          16512       lambda[0][0]                     \n",
      "__________________________________________________________________________________________________\n",
      "dot (Dot)                       (None, None)         0           dense_9[0][0]                    \n",
      "                                                                 bidirectional_7[0][0]            \n",
      "__________________________________________________________________________________________________\n",
      "attSoftmax (Softmax)            (None, None)         0           dot[0][0]                        \n",
      "__________________________________________________________________________________________________\n",
      "dot_1 (Dot)                     (None, 128)          0           attSoftmax[0][0]                 \n",
      "                                                                 bidirectional_7[0][0]            \n",
      "__________________________________________________________________________________________________\n",
      "dense_10 (Dense)                (None, 64)           8256        dot_1[0][0]                      \n",
      "__________________________________________________________________________________________________\n",
      "dense_11 (Dense)                (None, 32)           2080        dense_10[0][0]                   \n",
      "__________________________________________________________________________________________________\n",
      "output (Dense)                  (None, 36)           1188        dense_11[0][0]                   \n",
      "==================================================================================================\n",
      "Total params: 1,292,911\n",
      "Trainable params: 201,225\n",
      "Non-trainable params: 1,091,686\n",
      "__________________________________________________________________________________________________\n"
     ]
    }
   ],
   "source": [
    "#self-attention LSTM\n",
    "#nCategs=36\n",
    "#sr=16000\n",
    "#iLen=16000\n",
    "#from keras import layers as L\n",
    "\n",
    "### Model z atencja\n",
    "if modelType != \"model-attRNN\":\n",
    "    model = AttRNNSpeechModel(nCategs, samplingrate = sr, inputLength = None)#, rnn_func=L.LSTM)\n",
    "else:\n",
    "### Model bez atencji\n",
    "    model = RNNSpeechModel(nCategs, samplingrate = sr, inputLength = None)#, rnn_func=L.LSTM)\n",
    "\n",
    "model.compile(optimizer='adam', loss=['sparse_categorical_crossentropy'], metrics=['sparse_categorical_accuracy'])\n",
    "model.summary()"
   ]
  },
  {
   "cell_type": "code",
   "execution_count": 12,
   "metadata": {},
   "outputs": [],
   "source": [
    "import math\n",
    "from tensorflow.keras.callbacks import EarlyStopping, ModelCheckpoint, LearningRateScheduler\n",
    "def step_decay(epoch):\n",
    "    initial_lrate = 0.001\n",
    "    drop = 0.4\n",
    "    epochs_drop = 15.0\n",
    "    lrate = initial_lrate * math.pow(drop,  \n",
    "            math.floor((1+epoch)/epochs_drop))\n",
    "    \n",
    "    if (lrate < 4e-5):\n",
    "        lrate = 4e-5\n",
    "      \n",
    "    print('Changing learning rate to {}'.format(lrate))\n",
    "    return lrate\n",
    "lrate = LearningRateScheduler(step_decay)"
   ]
  },
  {
   "cell_type": "code",
   "execution_count": 13,
   "metadata": {},
   "outputs": [
    {
     "name": "stdout",
     "output_type": "stream",
     "text": [
      "Changing learning rate to 0.001\n",
      "Epoch 1/60\n",
      "\n",
      "Epoch 00001: val_sparse_categorical_accuracy improved from -inf to 0.54070, saving model to my-model-rnn.h5\n",
      "2651/2651 - 323s - loss: 2.4702 - sparse_categorical_accuracy: 0.2932 - val_loss: 1.5403 - val_sparse_categorical_accuracy: 0.5407\n",
      "Changing learning rate to 0.001\n",
      "Epoch 2/60\n",
      "\n",
      "Epoch 00002: val_sparse_categorical_accuracy improved from 0.54070 to 0.68539, saving model to my-model-rnn.h5\n",
      "2651/2651 - 317s - loss: 1.2694 - sparse_categorical_accuracy: 0.6220 - val_loss: 1.0521 - val_sparse_categorical_accuracy: 0.6854\n",
      "Changing learning rate to 0.001\n",
      "Epoch 3/60\n",
      "\n",
      "Epoch 00003: val_sparse_categorical_accuracy improved from 0.68539 to 0.76698, saving model to my-model-rnn.h5\n",
      "2651/2651 - 311s - loss: 0.9018 - sparse_categorical_accuracy: 0.7301 - val_loss: 0.7616 - val_sparse_categorical_accuracy: 0.7670\n",
      "Changing learning rate to 0.001\n",
      "Epoch 4/60\n",
      "\n",
      "Epoch 00004: val_sparse_categorical_accuracy improved from 0.76698 to 0.78648, saving model to my-model-rnn.h5\n",
      "2651/2651 - 299s - loss: 0.7473 - sparse_categorical_accuracy: 0.7745 - val_loss: 0.7046 - val_sparse_categorical_accuracy: 0.7865\n",
      "Changing learning rate to 0.001\n",
      "Epoch 5/60\n",
      "\n",
      "Epoch 00005: val_sparse_categorical_accuracy improved from 0.78648 to 0.81541, saving model to my-model-rnn.h5\n",
      "2651/2651 - 302s - loss: 0.6621 - sparse_categorical_accuracy: 0.8000 - val_loss: 0.5945 - val_sparse_categorical_accuracy: 0.8154\n",
      "Changing learning rate to 0.001\n",
      "Epoch 6/60\n",
      "\n",
      "Epoch 00006: val_sparse_categorical_accuracy improved from 0.81541 to 0.82958, saving model to my-model-rnn.h5\n",
      "2651/2651 - 298s - loss: 0.5975 - sparse_categorical_accuracy: 0.8194 - val_loss: 0.5555 - val_sparse_categorical_accuracy: 0.8296\n",
      "Changing learning rate to 0.001\n",
      "Epoch 7/60\n",
      "\n",
      "Epoch 00007: val_sparse_categorical_accuracy improved from 0.82958 to 0.83551, saving model to my-model-rnn.h5\n",
      "2651/2651 - 280s - loss: 0.5602 - sparse_categorical_accuracy: 0.8295 - val_loss: 0.5435 - val_sparse_categorical_accuracy: 0.8355\n",
      "Changing learning rate to 0.001\n",
      "Epoch 8/60\n",
      "\n",
      "Epoch 00008: val_sparse_categorical_accuracy improved from 0.83551 to 0.84264, saving model to my-model-rnn.h5\n",
      "2651/2651 - 269s - loss: 0.5304 - sparse_categorical_accuracy: 0.8381 - val_loss: 0.5140 - val_sparse_categorical_accuracy: 0.8426\n",
      "Changing learning rate to 0.001\n",
      "Epoch 9/60\n",
      "\n",
      "Epoch 00009: val_sparse_categorical_accuracy did not improve from 0.84264\n",
      "2651/2651 - 265s - loss: 0.4919 - sparse_categorical_accuracy: 0.8495 - val_loss: 0.5206 - val_sparse_categorical_accuracy: 0.8420\n",
      "Changing learning rate to 0.001\n",
      "Epoch 10/60\n",
      "\n",
      "Epoch 00010: val_sparse_categorical_accuracy improved from 0.84264 to 0.85701, saving model to my-model-rnn.h5\n",
      "2651/2651 - 264s - loss: 0.4677 - sparse_categorical_accuracy: 0.8559 - val_loss: 0.4823 - val_sparse_categorical_accuracy: 0.8570\n",
      "Changing learning rate to 0.001\n",
      "Epoch 11/60\n",
      "\n",
      "Epoch 00011: val_sparse_categorical_accuracy did not improve from 0.85701\n",
      "2651/2651 - 267s - loss: 0.4501 - sparse_categorical_accuracy: 0.8622 - val_loss: 0.5216 - val_sparse_categorical_accuracy: 0.8470\n",
      "Changing learning rate to 0.001\n",
      "Epoch 12/60\n",
      "\n",
      "Epoch 00012: val_sparse_categorical_accuracy did not improve from 0.85701\n",
      "2651/2651 - 266s - loss: 0.4295 - sparse_categorical_accuracy: 0.8684 - val_loss: 0.4869 - val_sparse_categorical_accuracy: 0.8508\n",
      "Changing learning rate to 0.001\n",
      "Epoch 13/60\n",
      "\n",
      "Epoch 00013: val_sparse_categorical_accuracy improved from 0.85701 to 0.86073, saving model to my-model-rnn.h5\n",
      "2651/2651 - 271s - loss: 0.3994 - sparse_categorical_accuracy: 0.8766 - val_loss: 0.4655 - val_sparse_categorical_accuracy: 0.8607\n",
      "Changing learning rate to 0.001\n",
      "Epoch 14/60\n",
      "\n",
      "Epoch 00014: val_sparse_categorical_accuracy improved from 0.86073 to 0.86716, saving model to my-model-rnn.h5\n",
      "2651/2651 - 294s - loss: 0.3886 - sparse_categorical_accuracy: 0.8801 - val_loss: 0.4423 - val_sparse_categorical_accuracy: 0.8672\n",
      "Changing learning rate to 0.0004\n",
      "Epoch 15/60\n",
      "\n",
      "Epoch 00015: val_sparse_categorical_accuracy improved from 0.86716 to 0.87631, saving model to my-model-rnn.h5\n",
      "2651/2651 - 272s - loss: 0.3074 - sparse_categorical_accuracy: 0.9047 - val_loss: 0.4231 - val_sparse_categorical_accuracy: 0.8763\n",
      "Changing learning rate to 0.0004\n",
      "Epoch 16/60\n",
      "\n",
      "Epoch 00016: val_sparse_categorical_accuracy did not improve from 0.87631\n",
      "2651/2651 - 266s - loss: 0.2828 - sparse_categorical_accuracy: 0.9130 - val_loss: 0.4358 - val_sparse_categorical_accuracy: 0.8737\n",
      "Changing learning rate to 0.0004\n",
      "Epoch 17/60\n",
      "\n",
      "Epoch 00017: val_sparse_categorical_accuracy improved from 0.87631 to 0.87922, saving model to my-model-rnn.h5\n",
      "2651/2651 - 264s - loss: 0.2645 - sparse_categorical_accuracy: 0.9187 - val_loss: 0.4285 - val_sparse_categorical_accuracy: 0.8792\n",
      "Changing learning rate to 0.0004\n",
      "Epoch 18/60\n",
      "\n",
      "Epoch 00018: val_sparse_categorical_accuracy improved from 0.87922 to 0.88073, saving model to my-model-rnn.h5\n",
      "2651/2651 - 265s - loss: 0.2582 - sparse_categorical_accuracy: 0.9200 - val_loss: 0.4408 - val_sparse_categorical_accuracy: 0.8807\n",
      "Changing learning rate to 0.0004\n",
      "Epoch 19/60\n",
      "\n",
      "Epoch 00019: val_sparse_categorical_accuracy improved from 0.88073 to 0.88274, saving model to my-model-rnn.h5\n",
      "2651/2651 - 265s - loss: 0.2434 - sparse_categorical_accuracy: 0.9247 - val_loss: 0.4249 - val_sparse_categorical_accuracy: 0.8827\n",
      "Changing learning rate to 0.0004\n",
      "Epoch 20/60\n",
      "\n",
      "Epoch 00020: val_sparse_categorical_accuracy improved from 0.88274 to 0.88535, saving model to my-model-rnn.h5\n",
      "2651/2651 - 263s - loss: 0.2355 - sparse_categorical_accuracy: 0.9268 - val_loss: 0.4291 - val_sparse_categorical_accuracy: 0.8853\n",
      "Changing learning rate to 0.0004\n",
      "Epoch 21/60\n",
      "\n",
      "Epoch 00021: val_sparse_categorical_accuracy did not improve from 0.88535\n",
      "2651/2651 - 265s - loss: 0.2215 - sparse_categorical_accuracy: 0.9315 - val_loss: 0.4572 - val_sparse_categorical_accuracy: 0.8784\n",
      "Changing learning rate to 0.0004\n",
      "Epoch 22/60\n",
      "\n",
      "Epoch 00022: val_sparse_categorical_accuracy did not improve from 0.88535\n",
      "2651/2651 - 265s - loss: 0.2153 - sparse_categorical_accuracy: 0.9328 - val_loss: 0.4457 - val_sparse_categorical_accuracy: 0.8807\n",
      "Changing learning rate to 0.0004\n",
      "Epoch 23/60\n",
      "\n",
      "Epoch 00023: val_sparse_categorical_accuracy did not improve from 0.88535\n",
      "2651/2651 - 263s - loss: 0.2070 - sparse_categorical_accuracy: 0.9353 - val_loss: 0.4578 - val_sparse_categorical_accuracy: 0.8815\n",
      "Changing learning rate to 0.0004\n",
      "Epoch 24/60\n",
      "\n",
      "Epoch 00024: val_sparse_categorical_accuracy did not improve from 0.88535\n",
      "2651/2651 - 256s - loss: 0.2021 - sparse_categorical_accuracy: 0.9371 - val_loss: 0.4641 - val_sparse_categorical_accuracy: 0.8807\n",
      "Changing learning rate to 0.0004\n",
      "Epoch 25/60\n",
      "\n",
      "Epoch 00025: val_sparse_categorical_accuracy did not improve from 0.88535\n",
      "2651/2651 - 254s - loss: 0.1961 - sparse_categorical_accuracy: 0.9388 - val_loss: 0.4667 - val_sparse_categorical_accuracy: 0.8794\n",
      "Changing learning rate to 0.0004\n",
      "Epoch 26/60\n",
      "\n",
      "Epoch 00026: val_sparse_categorical_accuracy did not improve from 0.88535\n",
      "2651/2651 - 257s - loss: 0.1867 - sparse_categorical_accuracy: 0.9411 - val_loss: 0.4788 - val_sparse_categorical_accuracy: 0.8800\n",
      "Changing learning rate to 0.0004\n",
      "Epoch 27/60\n",
      "\n",
      "Epoch 00027: val_sparse_categorical_accuracy did not improve from 0.88535\n",
      "2651/2651 - 256s - loss: 0.1782 - sparse_categorical_accuracy: 0.9442 - val_loss: 0.4829 - val_sparse_categorical_accuracy: 0.8795\n",
      "Changing learning rate to 0.0004\n",
      "Epoch 28/60\n",
      "\n",
      "Epoch 00028: val_sparse_categorical_accuracy did not improve from 0.88535\n",
      "2651/2651 - 258s - loss: 0.1761 - sparse_categorical_accuracy: 0.9452 - val_loss: 0.4918 - val_sparse_categorical_accuracy: 0.8769\n",
      "Changing learning rate to 0.0004\n",
      "Epoch 29/60\n",
      "\n",
      "Epoch 00029: val_sparse_categorical_accuracy did not improve from 0.88535\n",
      "2651/2651 - 261s - loss: 0.1793 - sparse_categorical_accuracy: 0.9436 - val_loss: 0.4758 - val_sparse_categorical_accuracy: 0.8786\n",
      "Changing learning rate to 0.00016000000000000004\n",
      "Epoch 30/60\n",
      "Restoring model weights from the end of the best epoch.\n",
      "\n",
      "Epoch 00030: val_sparse_categorical_accuracy did not improve from 0.88535\n",
      "2651/2651 - 266s - loss: 0.1367 - sparse_categorical_accuracy: 0.9590 - val_loss: 0.4954 - val_sparse_categorical_accuracy: 0.8829\n",
      "Epoch 00030: early stopping\n"
     ]
    }
   ],
   "source": [
    "earlystopper = EarlyStopping(monitor='val_sparse_categorical_accuracy', patience=10,\n",
    "                             verbose=1, restore_best_weights=True)\n",
    "checkpointer = ModelCheckpoint(modelType + \".h5\", monitor='val_sparse_categorical_accuracy', verbose=1, save_best_only=True)\n",
    "\n",
    "results = model.fit(trainGen, validation_data=valGen, epochs=60, use_multiprocessing=False, workers=4, verbose=2,\n",
    "                    callbacks=[earlystopper, checkpointer, lrate])\n",
    "\n",
    "model.save(modelType + \".h5\")"
   ]
  },
  {
   "cell_type": "code",
   "execution_count": 14,
   "metadata": {},
   "outputs": [
    {
     "data": {
      "image/png": "[encoded data removed]",
      "text/plain": [
       "<Figure size 432x288 with 1 Axes>"
      ]
     },
     "metadata": {
      "needs_background": "light"
     },
     "output_type": "display_data"
    },
    {
     "data": {
      "image/png": "[encoded data removed]",
      "text/plain": [
       "<Figure size 432x288 with 1 Axes>"
      ]
     },
     "metadata": {
      "needs_background": "light"
     },
     "output_type": "display_data"
    }
   ],
   "source": [
    "# summarize history for categorical accuracy\n",
    "plt.plot(results.history['sparse_categorical_accuracy'])\n",
    "plt.plot(results.history['val_sparse_categorical_accuracy'])\n",
    "plt.title('Categorical accuracy')\n",
    "plt.ylabel('accuracy')\n",
    "plt.xlabel('epoch')\n",
    "plt.legend(['train', 'test'], loc='upper left')\n",
    "plt.show()\n",
    "# summarize history for loss\n",
    "plt.plot(results.history['loss'])\n",
    "plt.plot(results.history['val_loss'])\n",
    "plt.title('model loss')\n",
    "plt.ylabel('loss')\n",
    "plt.xlabel('epoch')\n",
    "plt.legend(['train', 'test'], loc='upper left')\n",
    "plt.show()"
   ]
  },
  {
   "cell_type": "code",
   "execution_count": null,
   "metadata": {},
   "outputs": [],
   "source": [
    "# load best model according to cross-validation - model-attRNN\n",
    "# model = load_model(modelType + \".h5\", custom_objects={'Melspectrogram': Melspectrogram, 'Normalization2D': Normalization2D })\n",
    "model.load_weights(modelType + \".h5\")"
   ]
  },
  {
   "cell_type": "code",
   "execution_count": null,
   "metadata": {},
   "outputs": [],
   "source": [
    "#read all test data\n",
    "x_test, y_test = testGen.__getitem__(0)"
   ]
  },
  {
   "cell_type": "code",
   "execution_count": null,
   "metadata": {},
   "outputs": [],
   "source": [
    "valEval = model.evaluate(valGen, use_multiprocessing=False, workers=4,verbose=0)\n",
    "trainEval = model.evaluate(trainGen, use_multiprocessing=False, workers=4,verbose=0)\n",
    "testEval = model.evaluate(x_test, y_test, verbose=0)\n",
    "print('Evaluation scores: \\nMetrics: {} \\nTrain: {} \\nValidation: {} \\nTest: {}'.format(model.metrics_names, trainEval, valEval, testEval) )"
   ]
  },
  {
   "cell_type": "code",
   "execution_count": null,
   "metadata": {},
   "outputs": [],
   "source": [
    "#35word, v2\n",
    "classes = ['nine', 'yes', 'no', 'up', 'down', 'left', 'right', 'on', 'off', 'stop', 'go',\n",
    "           'zero', 'one', 'two', 'three', 'four', 'five', 'six', \n",
    "           'seven',  'eight', 'backward', 'bed', 'bird', 'cat', 'dog',\n",
    "           'follow', 'forward', 'happy', 'house', 'learn', 'marvin', 'sheila', 'tree',\n",
    "           'visual', 'wow']"
   ]
  },
  {
   "cell_type": "code",
   "execution_count": 9,
   "metadata": {},
   "outputs": [
    {
     "data": {
      "text/plain": [
       "['2.3.4', '0.2.0', '1.3.5', '0.9.1']"
      ]
     },
     "execution_count": 9,
     "metadata": {},
     "output_type": "execute_result"
    }
   ],
   "source": [
    "import pandas as pd\n",
    "import kapre\n",
    "from kapre.time_frequency import Melspectrogram\n",
    "from kapre.utils import Normalization2D\n",
    "[tf.__version__, kapre.__version__, pd.__version__, librosa.__version__]"
   ]
  },
  {
   "cell_type": "markdown",
   "metadata": {},
   "source": [
    "# Save model to .pb"
   ]
  },
  {
   "cell_type": "code",
   "execution_count": 10,
   "metadata": {},
   "outputs": [],
   "source": [
    "#model = SpeechModels.AttRNNSpeechModel(nCategs, samplingrate = sr, inputLength = None)#, rnn_func=L.LSTM)\n",
    "#model.load_weights(modelType + \".h5\")\n",
    "\n",
    "model = load_model(modelType + \".h5\", custom_objects={'Melspectrogram': Melspectrogram, 'Normalization2D': Normalization2D })"
   ]
  },
  {
   "cell_type": "code",
   "execution_count": 11,
   "metadata": {},
   "outputs": [
    {
     "name": "stdout",
     "output_type": "stream",
     "text": [
      "WARNING:tensorflow:From d:\\Anaconda\\envs\\rnn\\lib\\site-packages\\tensorflow\\python\\training\\tracking\\tracking.py:111: Model.state_updates (from tensorflow.python.keras.engine.training) is deprecated and will be removed in a future version.\n",
      "Instructions for updating:\n",
      "This property should not be used in TensorFlow 2.0, as updates are applied automatically.\n",
      "WARNING:tensorflow:From d:\\Anaconda\\envs\\rnn\\lib\\site-packages\\tensorflow\\python\\training\\tracking\\tracking.py:111: Layer.updates (from tensorflow.python.keras.engine.base_layer) is deprecated and will be removed in a future version.\n",
      "Instructions for updating:\n",
      "This property should not be used in TensorFlow 2.0, as updates are applied automatically.\n",
      "INFO:tensorflow:Assets written to: my-model-rnn/1/assets\n"
     ]
    }
   ],
   "source": [
    "tf.saved_model.save(model, modelType + \"/1/\")\n"
   ]
  }
 ],
 "metadata": {
  "interpreter": {
   "hash": "f71222efeac2516dbe25f613e7d6d002b5e312af084a48149620fcb4a97a32e9"
  },
  "kernelspec": {
   "display_name": "Python 3.7.13 ('rnn')",
   "language": "python",
   "name": "python3"
  },
  "language_info": {
   "codemirror_mode": {
    "name": "ipython",
    "version": 3
   },
   "file_extension": ".py",
   "mimetype": "text/x-python",
   "name": "python",
   "nbconvert_exporter": "python",
   "pygments_lexer": "ipython3",
   "version": "3.7.13"
  },
  "orig_nbformat": 4
 },
 "nbformat": 4,
 "nbformat_minor": 2
}
