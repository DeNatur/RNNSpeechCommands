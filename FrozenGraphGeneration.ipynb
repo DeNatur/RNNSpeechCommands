{
 "cells": [
  {
   "cell_type": "code",
   "execution_count": 122,
   "metadata": {},
   "outputs": [],
   "source": [
    "modelType = \"my-model-DeepLSTM\" # \"model-RNN\""
   ]
  },
  {
   "cell_type": "code",
   "execution_count": null,
   "metadata": {},
   "outputs": [],
   "source": [
    "!wget -q https://raw.githubusercontent.com/DeNatur/RNNSpeechCommands/main/GoogleCommandsRepository.py\n",
    "!wget -q https://raw.githubusercontent.com/DeNatur/RNNSpeechCommands/main/RNNModels.py\n",
    "!wget -q https://raw.githubusercontent.com/DeNatur/RNNSpeechCommands/main/SequenceGenerator.py\n",
    "!wget -q https://raw.githubusercontent.com/DeNatur/RNNSpeechCommands/main/audioUtils.py\n",
    "!wget -q https://raw.githubusercontent.com/DeNatur/RNNSpeechCommands/main/requirements.txt\n",
    "!pip install -r requirements.txt"
   ]
  },
  {
   "cell_type": "code",
   "execution_count": 3,
   "metadata": {},
   "outputs": [
    {
     "name": "stdout",
     "output_type": "stream",
     "text": [
      "[name: \"/device:CPU:0\"\n",
      "device_type: \"CPU\"\n",
      "memory_limit: 268435456\n",
      "locality {\n",
      "}\n",
      "incarnation: 11370909140165112545\n",
      ", name: \"/device:XLA_CPU:0\"\n",
      "device_type: \"XLA_CPU\"\n",
      "memory_limit: 17179869184\n",
      "locality {\n",
      "}\n",
      "incarnation: 2096923295497624605\n",
      "physical_device_desc: \"device: XLA_CPU device\"\n",
      ", name: \"/device:GPU:0\"\n",
      "device_type: \"GPU\"\n",
      "memory_limit: 5060693856\n",
      "locality {\n",
      "  bus_id: 1\n",
      "  links {\n",
      "  }\n",
      "}\n",
      "incarnation: 16776041298479507877\n",
      "physical_device_desc: \"device: 0, name: NVIDIA GeForce GTX 1060 6GB, pci bus id: 0000:01:00.0, compute capability: 6.1\"\n",
      ", name: \"/device:XLA_GPU:0\"\n",
      "device_type: \"XLA_GPU\"\n",
      "memory_limit: 17179869184\n",
      "locality {\n",
      "}\n",
      "incarnation: 2196147000357909071\n",
      "physical_device_desc: \"device: XLA_GPU device\"\n",
      "]\n"
     ]
    }
   ],
   "source": [
    "import tensorflow as tf\n",
    "from tensorflow.python.client import device_lib\n",
    "print(device_lib.list_local_devices())"
   ]
  },
  {
   "cell_type": "code",
   "execution_count": 4,
   "metadata": {},
   "outputs": [],
   "source": [
    "import librosa\n",
    "import matplotlib\n",
    "import numpy as np\n",
    "import matplotlib.pyplot as plt\n",
    "%matplotlib inline  \n",
    "\n",
    "import GoogleCommandsRepository\n",
    "import SequenceGenerator\n",
    "# import RNNModels\n",
    "from RNNModels import RNNSpeechModel, AttRNNSpeechModel, my_RNNSpeechModel, my2_SimpleRNNSpeechModel"
   ]
  },
  {
   "cell_type": "code",
   "execution_count": 5,
   "metadata": {},
   "outputs": [
    {
     "name": "stdout",
     "output_type": "stream",
     "text": [
      "Done preparing Google Speech commands dataset\n"
     ]
    }
   ],
   "source": [
    "# Download and prepare all data\n",
    "gscInfo, nCategs = GoogleCommandsRepository.PrepareGoogleSpeechCmd(task='35word')"
   ]
  },
  {
   "cell_type": "code",
   "execution_count": 84,
   "metadata": {},
   "outputs": [
    {
     "name": "stderr",
     "output_type": "stream",
     "text": [
      "IOPub data rate exceeded.\n",
      "The notebook server will temporarily stop sending output\n",
      "to the client in order to avoid crashing it.\n",
      "To change this limit, set the config variable\n",
      "`--NotebookApp.iopub_data_rate_limit`.\n",
      "\n",
      "Current values:\n",
      "NotebookApp.iopub_data_rate_limit=1000000.0 (bytes/sec)\n",
      "NotebookApp.rate_limit_window=3.0 (secs)\n",
      "\n"
     ]
    },
    {
     "data": {
      "text/plain": [
       "311"
      ]
     },
     "execution_count": 84,
     "metadata": {},
     "output_type": "execute_result"
    }
   ],
   "source": [
    "sr = 16000 #we know this one for google audios\n",
    "iLen = 16000\n",
    "trainGen = SequenceGenerator.SequenceGenerator(gscInfo['train']['files'], gscInfo['train']['labels'], shuffle=True)\n",
    "# handle the fact that number of samples in validation may not be multiple of batch_size with shuffle=True\n",
    "valGen   = SequenceGenerator.SequenceGenerator(gscInfo['val']['files'], gscInfo['val']['labels'], shuffle=True)\n",
    "\n",
    "# use batch_size = total number of files to read all test files at once\n",
    "testGen  = SequenceGenerator.SequenceGenerator(gscInfo['test']['files'], gscInfo['test']['labels'], shuffle=False, batch_size=len(gscInfo['test']['files']))\n",
    "testRGen = SequenceGenerator.SequenceGenerator(gscInfo['testREAL']['files'], gscInfo['testREAL']['labels'], shuffle=False, batch_size=len(gscInfo['testREAL']['files']))\n",
    "valGen.__len__()"
   ]
  },
  {
   "cell_type": "code",
   "execution_count": 21,
   "metadata": {},
   "outputs": [
    {
     "data": {
      "text/plain": [
       "array([24,  3,  3, 22, 35, 12,  9,  9, 11, 19, 25,  2,  6,  6, 35,  2, 10,\n",
       "       18, 25, 29,  2, 22, 25, 29,  1, 26, 16, 16, 17, 22,  4,  1])"
      ]
     },
     "execution_count": 21,
     "metadata": {},
     "output_type": "execute_result"
    }
   ],
   "source": [
    "audios, classes = valGen.__getitem__(5)\n",
    "classes"
   ]
  },
  {
   "cell_type": "code",
   "execution_count": 22,
   "metadata": {},
   "outputs": [
    {
     "data": {
      "text/plain": [
       "[<matplotlib.lines.Line2D at 0x1a40907bf48>]"
      ]
     },
     "execution_count": 22,
     "metadata": {},
     "output_type": "execute_result"
    },
    {
     "data": {
      "image/png": "[encoded data removed]",
      "text/plain": [
       "<Figure size 432x288 with 1 Axes>"
      ]
     },
     "metadata": {
      "needs_background": "light"
     },
     "output_type": "display_data"
    }
   ],
   "source": [
    "plt.plot(audios[4])"
   ]
  },
  {
   "cell_type": "code",
   "execution_count": 27,
   "metadata": {},
   "outputs": [
    {
     "data": {
      "text/plain": [
       "(32, 16000)"
      ]
     },
     "execution_count": 27,
     "metadata": {},
     "output_type": "execute_result"
    }
   ],
   "source": [
    "audios.shape"
   ]
  },
  {
   "cell_type": "code",
   "execution_count": 8,
   "metadata": {},
   "outputs": [],
   "source": [
    "from tensorflow.keras.models import Model, load_model\n",
    "\n",
    "from kapre.time_frequency import Melspectrogram, Spectrogram"
   ]
  },
  {
   "cell_type": "code",
   "execution_count": 10,
   "metadata": {},
   "outputs": [],
   "source": [
    "from tensorflow.keras.models import Model\n",
    "from tensorflow.keras.models import Sequential\n",
    "\n",
    "from tensorflow.keras import layers as Layers\n",
    "from tensorflow.keras import backend as K\n"
   ]
  },
  {
   "cell_type": "code",
   "execution_count": 50,
   "metadata": {},
   "outputs": [],
   "source": [
    "from kapre.utils import Normalization2D"
   ]
  },
  {
   "cell_type": "code",
   "execution_count": 125,
   "metadata": {},
   "outputs": [],
   "source": [
    "#self-attention LSTM\n",
    "#nCategs=36\n",
    "sr=16000\n",
    "iLen=16000\n",
    "#from keras import layers as L\n",
    "\n",
    "# ### Model z atencja\n",
    "# if modelType != \"model-attRNN\":\n",
    "#     model = AttRNNSpeechModel(nCategs, samplingrate = sr, inputLength = None)#, rnn_func=L.LSTM)\n",
    "# else:\n",
    "# ### Model bez atencji\n",
    "#     model = RNNSpeechModel(nCategs, samplingrate = sr, inputLength = None)#, rnn_func=L.LSTM)\n",
    "\n",
    "### My Model\n",
    "model = Sequential()\n",
    "model.add(Layers.Reshape((1, -1)))\n",
    "model.add(Melspectrogram(n_dft=1024, n_hop=128, input_shape=(1, iLen),\n",
    "               padding='same', sr=sr, n_mels=80,\n",
    "               fmin=40.0, fmax=sr / 2, power_melgram=1.0,\n",
    "               return_decibel_melgram=True, trainable_fb=False,\n",
    "               trainable_kernel=False,\n",
    "               name='mel_stft'))\n",
    "model.add(Normalization2D(int_axis=0))\n",
    "model.add(Layers.Lambda(lambda q: K.squeeze(q, -1), name='squeeze_last_dim'))\n",
    "model.add(Layers.LSTM(64, return_sequences=True))\n",
    "model.add(Layers.LSTM(64, return_sequences=True))\n",
    "model.add(Layers.LSTM(64, return_sequences=True))\n",
    "model.add(Layers.LSTM(64, return_sequences=True))\n",
    "model.add(Layers.Flatten())\n",
    "model.add(Layers.Dense(64, activation='relu'))\n",
    "model.add(Layers.Dense(32, activation='relu'))\n",
    "model.add(Layers.Dense(nCategs, activation='softmax'))\n",
    "\n",
    "model.compile(optimizer='adam', loss=['sparse_categorical_crossentropy'], metrics=['sparse_categorical_accuracy'])\n",
    "# model.summary()"
   ]
  },
  {
   "cell_type": "code",
   "execution_count": 86,
   "metadata": {},
   "outputs": [
    {
     "ename": "ValueError",
     "evalue": "This model has not yet been built. Build the model first by calling `build()` or calling `fit()` with some data, or specify an `input_shape` argument in the first layer(s) for automatic build.",
     "output_type": "error",
     "traceback": [
      "\u001b[1;31m---------------------------------------------------------------------------\u001b[0m",
      "\u001b[1;31mValueError\u001b[0m                                Traceback (most recent call last)",
      "\u001b[1;32m~\\AppData\\Local\\Temp\\ipykernel_19996\\3470139634.py\u001b[0m in \u001b[0;36m<module>\u001b[1;34m\u001b[0m\n\u001b[1;32m----> 1\u001b[1;33m \u001b[0mmodel\u001b[0m\u001b[1;33m.\u001b[0m\u001b[0msummary\u001b[0m\u001b[1;33m(\u001b[0m\u001b[1;33m)\u001b[0m\u001b[1;33m\u001b[0m\u001b[1;33m\u001b[0m\u001b[0m\n\u001b[0m",
      "\u001b[1;32mD:\\Anaconda\\envs\\rnn\\lib\\site-packages\\tensorflow\\python\\keras\\engine\\training.py\u001b[0m in \u001b[0;36msummary\u001b[1;34m(self, line_length, positions, print_fn)\u001b[0m\n\u001b[0;32m   2347\u001b[0m     \"\"\"\n\u001b[0;32m   2348\u001b[0m     \u001b[1;32mif\u001b[0m \u001b[1;32mnot\u001b[0m \u001b[0mself\u001b[0m\u001b[1;33m.\u001b[0m\u001b[0mbuilt\u001b[0m\u001b[1;33m:\u001b[0m\u001b[1;33m\u001b[0m\u001b[1;33m\u001b[0m\u001b[0m\n\u001b[1;32m-> 2349\u001b[1;33m       raise ValueError('This model has not yet been built. '\n\u001b[0m\u001b[0;32m   2350\u001b[0m                        \u001b[1;34m'Build the model first by calling `build()` or calling '\u001b[0m\u001b[1;33m\u001b[0m\u001b[1;33m\u001b[0m\u001b[0m\n\u001b[0;32m   2351\u001b[0m                        \u001b[1;34m'`fit()` with some data, or specify '\u001b[0m\u001b[1;33m\u001b[0m\u001b[1;33m\u001b[0m\u001b[0m\n",
      "\u001b[1;31mValueError\u001b[0m: This model has not yet been built. Build the model first by calling `build()` or calling `fit()` with some data, or specify an `input_shape` argument in the first layer(s) for automatic build."
     ]
    }
   ],
   "source": [
    "model.summary()"
   ]
  },
  {
   "cell_type": "code",
   "execution_count": 11,
   "metadata": {},
   "outputs": [
    {
     "name": "stdout",
     "output_type": "stream",
     "text": [
      "Model: \"functional_1\"\n",
      "__________________________________________________________________________________________________\n",
      "Layer (type)                    Output Shape         Param #     Connected to                     \n",
      "==================================================================================================\n",
      "input (InputLayer)              [(None, None)]       0                                            \n",
      "__________________________________________________________________________________________________\n",
      "reshape_3 (Reshape)             (None, 1, None)      0           input[0][0]                      \n",
      "__________________________________________________________________________________________________\n",
      "mel_stft (Melspectrogram)       (None, 80, None, 1)  1091664     reshape_3[0][0]                  \n",
      "__________________________________________________________________________________________________\n",
      "mel_stft_norm (Normalization2D) (None, 80, None, 1)  0           mel_stft[0][0]                   \n",
      "__________________________________________________________________________________________________\n",
      "permute_3 (Permute)             (None, None, 80, 1)  0           mel_stft_norm[0][0]              \n",
      "__________________________________________________________________________________________________\n",
      "conv2d_6 (Conv2D)               (None, None, 80, 10) 60          permute_3[0][0]                  \n",
      "__________________________________________________________________________________________________\n",
      "batch_normalization_6 (BatchNor (None, None, 80, 10) 40          conv2d_6[0][0]                   \n",
      "__________________________________________________________________________________________________\n",
      "conv2d_7 (Conv2D)               (None, None, 80, 1)  51          batch_normalization_6[0][0]      \n",
      "__________________________________________________________________________________________________\n",
      "batch_normalization_7 (BatchNor (None, None, 80, 1)  4           conv2d_7[0][0]                   \n",
      "__________________________________________________________________________________________________\n",
      "squeeze_last_dim (Lambda)       (None, None, 80)     0           batch_normalization_7[0][0]      \n",
      "__________________________________________________________________________________________________\n",
      "bidirectional_6 (Bidirectional) (None, None, 128)    74240       squeeze_last_dim[0][0]           \n",
      "__________________________________________________________________________________________________\n",
      "bidirectional_7 (Bidirectional) (None, None, 128)    98816       bidirectional_6[0][0]            \n",
      "__________________________________________________________________________________________________\n",
      "lambda (Lambda)                 (None, 128)          0           bidirectional_7[0][0]            \n",
      "__________________________________________________________________________________________________\n",
      "dense_9 (Dense)                 (None, 128)          16512       lambda[0][0]                     \n",
      "__________________________________________________________________________________________________\n",
      "dot (Dot)                       (None, None)         0           dense_9[0][0]                    \n",
      "                                                                 bidirectional_7[0][0]            \n",
      "__________________________________________________________________________________________________\n",
      "attSoftmax (Softmax)            (None, None)         0           dot[0][0]                        \n",
      "__________________________________________________________________________________________________\n",
      "dot_1 (Dot)                     (None, 128)          0           attSoftmax[0][0]                 \n",
      "                                                                 bidirectional_7[0][0]            \n",
      "__________________________________________________________________________________________________\n",
      "dense_10 (Dense)                (None, 64)           8256        dot_1[0][0]                      \n",
      "__________________________________________________________________________________________________\n",
      "dense_11 (Dense)                (None, 32)           2080        dense_10[0][0]                   \n",
      "__________________________________________________________________________________________________\n",
      "output (Dense)                  (None, 36)           1188        dense_11[0][0]                   \n",
      "==================================================================================================\n",
      "Total params: 1,292,911\n",
      "Trainable params: 201,225\n",
      "Non-trainable params: 1,091,686\n",
      "__________________________________________________________________________________________________\n"
     ]
    }
   ],
   "source": [
    "#self-attention LSTM\n",
    "#nCategs=36\n",
    "#sr=16000\n",
    "#iLen=16000\n",
    "#from keras import layers as L\n",
    "\n",
    "### Model z atencja\n",
    "if modelType != \"model-attRNN\":\n",
    "    model = AttRNNSpeechModel(nCategs, samplingrate = sr, inputLength = None)#, rnn_func=L.LSTM)\n",
    "else:\n",
    "### Model bez atencji\n",
    "    model = RNNSpeechModel(nCategs, samplingrate = sr, inputLength = None)#, rnn_func=L.LSTM)\n",
    "\n",
    "model.compile(optimizer='adam', loss=['sparse_categorical_crossentropy'], metrics=['sparse_categorical_accuracy'])\n",
    "model.summary()"
   ]
  },
  {
   "cell_type": "code",
   "execution_count": 32,
   "metadata": {},
   "outputs": [],
   "source": [
    "import math\n",
    "from tensorflow.keras.callbacks import EarlyStopping, ModelCheckpoint, LearningRateScheduler\n",
    "def step_decay(epoch):\n",
    "    initial_lrate = 0.001\n",
    "    drop = 0.4\n",
    "    epochs_drop = 15.0\n",
    "    lrate = initial_lrate * math.pow(drop,  \n",
    "            math.floor((1+epoch)/epochs_drop))\n",
    "    \n",
    "    if (lrate < 4e-5):\n",
    "        lrate = 4e-5\n",
    "      \n",
    "    print('Changing learning rate to {}'.format(lrate))\n",
    "    return lrate\n",
    "lrate = LearningRateScheduler(step_decay)"
   ]
  },
  {
   "cell_type": "code",
   "execution_count": 126,
   "metadata": {},
   "outputs": [
    {
     "name": "stdout",
     "output_type": "stream",
     "text": [
      "Changing learning rate to 0.001\n",
      "Epoch 1/60\n",
      "\n",
      "Epoch 00001: val_sparse_categorical_accuracy improved from -inf to 0.51929, saving model to my-model-DeepLSTM.h5\n",
      "2651/2651 - 247s - loss: 2.1699 - sparse_categorical_accuracy: 0.3708 - val_loss: 1.5776 - val_sparse_categorical_accuracy: 0.5193\n",
      "Changing learning rate to 0.001\n",
      "Epoch 2/60\n",
      "\n",
      "Epoch 00002: val_sparse_categorical_accuracy improved from 0.51929 to 0.59918, saving model to my-model-DeepLSTM.h5\n",
      "2651/2651 - 257s - loss: 1.4836 - sparse_categorical_accuracy: 0.5566 - val_loss: 1.3134 - val_sparse_categorical_accuracy: 0.5992\n",
      "Changing learning rate to 0.001\n",
      "Epoch 3/60\n",
      "\n",
      "Epoch 00003: val_sparse_categorical_accuracy improved from 0.59918 to 0.64680, saving model to my-model-DeepLSTM.h5\n",
      "2651/2651 - 257s - loss: 1.2890 - sparse_categorical_accuracy: 0.6110 - val_loss: 1.1507 - val_sparse_categorical_accuracy: 0.6468\n",
      "Changing learning rate to 0.001\n",
      "Epoch 4/60\n",
      "\n",
      "Epoch 00004: val_sparse_categorical_accuracy improved from 0.64680 to 0.66992, saving model to my-model-DeepLSTM.h5\n",
      "2651/2651 - 261s - loss: 1.1764 - sparse_categorical_accuracy: 0.6426 - val_loss: 1.0902 - val_sparse_categorical_accuracy: 0.6699\n",
      "Changing learning rate to 0.001\n",
      "Epoch 5/60\n",
      "\n",
      "Epoch 00005: val_sparse_categorical_accuracy improved from 0.66992 to 0.68288, saving model to my-model-DeepLSTM.h5\n",
      "2651/2651 - 257s - loss: 1.1008 - sparse_categorical_accuracy: 0.6663 - val_loss: 1.0330 - val_sparse_categorical_accuracy: 0.6829\n",
      "Changing learning rate to 0.001\n",
      "Epoch 6/60\n",
      "\n",
      "Epoch 00006: val_sparse_categorical_accuracy improved from 0.68288 to 0.69604, saving model to my-model-DeepLSTM.h5\n",
      "2651/2651 - 252s - loss: 1.0415 - sparse_categorical_accuracy: 0.6829 - val_loss: 0.9886 - val_sparse_categorical_accuracy: 0.6960\n",
      "Changing learning rate to 0.001\n",
      "Epoch 7/60\n",
      "\n",
      "Epoch 00007: val_sparse_categorical_accuracy did not improve from 0.69604\n",
      "2651/2651 - 250s - loss: 0.9851 - sparse_categorical_accuracy: 0.6994 - val_loss: 0.9960 - val_sparse_categorical_accuracy: 0.6939\n",
      "Changing learning rate to 0.001\n",
      "Epoch 8/60\n",
      "\n",
      "Epoch 00008: val_sparse_categorical_accuracy improved from 0.69604 to 0.70770, saving model to my-model-DeepLSTM.h5\n",
      "2651/2651 - 246s - loss: 0.9528 - sparse_categorical_accuracy: 0.7075 - val_loss: 0.9600 - val_sparse_categorical_accuracy: 0.7077\n",
      "Changing learning rate to 0.001\n",
      "Epoch 9/60\n",
      "\n",
      "Epoch 00009: val_sparse_categorical_accuracy improved from 0.70770 to 0.71071, saving model to my-model-DeepLSTM.h5\n",
      "2651/2651 - 256s - loss: 0.9340 - sparse_categorical_accuracy: 0.7148 - val_loss: 0.9339 - val_sparse_categorical_accuracy: 0.7107\n",
      "Changing learning rate to 0.001\n",
      "Epoch 10/60\n",
      "\n",
      "Epoch 00010: val_sparse_categorical_accuracy improved from 0.71071 to 0.72186, saving model to my-model-DeepLSTM.h5\n",
      "2651/2651 - 244s - loss: 0.9060 - sparse_categorical_accuracy: 0.7243 - val_loss: 0.9015 - val_sparse_categorical_accuracy: 0.7219\n",
      "Changing learning rate to 0.001\n",
      "Epoch 11/60\n",
      "\n",
      "Epoch 00011: val_sparse_categorical_accuracy did not improve from 0.72186\n",
      "2651/2651 - 241s - loss: 0.8758 - sparse_categorical_accuracy: 0.7318 - val_loss: 0.8971 - val_sparse_categorical_accuracy: 0.7201\n",
      "Changing learning rate to 0.001\n",
      "Epoch 12/60\n",
      "\n",
      "Epoch 00012: val_sparse_categorical_accuracy improved from 0.72186 to 0.72307, saving model to my-model-DeepLSTM.h5\n",
      "2651/2651 - 243s - loss: 0.8547 - sparse_categorical_accuracy: 0.7377 - val_loss: 0.9130 - val_sparse_categorical_accuracy: 0.7231\n",
      "Changing learning rate to 0.001\n",
      "Epoch 13/60\n",
      "\n",
      "Epoch 00013: val_sparse_categorical_accuracy improved from 0.72307 to 0.72317, saving model to my-model-DeepLSTM.h5\n",
      "2651/2651 - 240s - loss: 0.8619 - sparse_categorical_accuracy: 0.7362 - val_loss: 0.9259 - val_sparse_categorical_accuracy: 0.7232\n",
      "Changing learning rate to 0.001\n",
      "Epoch 14/60\n",
      "\n",
      "Epoch 00014: val_sparse_categorical_accuracy improved from 0.72317 to 0.72598, saving model to my-model-DeepLSTM.h5\n",
      "2651/2651 - 236s - loss: 0.8761 - sparse_categorical_accuracy: 0.7321 - val_loss: 0.8968 - val_sparse_categorical_accuracy: 0.7260\n",
      "Changing learning rate to 0.0004\n",
      "Epoch 15/60\n",
      "\n",
      "Epoch 00015: val_sparse_categorical_accuracy improved from 0.72598 to 0.75864, saving model to my-model-DeepLSTM.h5\n",
      "2651/2651 - 235s - loss: 0.7389 - sparse_categorical_accuracy: 0.7727 - val_loss: 0.7940 - val_sparse_categorical_accuracy: 0.7586\n",
      "Changing learning rate to 0.0004\n",
      "Epoch 16/60\n",
      "\n",
      "Epoch 00016: val_sparse_categorical_accuracy improved from 0.75864 to 0.76457, saving model to my-model-DeepLSTM.h5\n",
      "2651/2651 - 244s - loss: 0.6712 - sparse_categorical_accuracy: 0.7927 - val_loss: 0.7775 - val_sparse_categorical_accuracy: 0.7646\n",
      "Changing learning rate to 0.0004\n",
      "Epoch 17/60\n",
      "\n",
      "Epoch 00017: val_sparse_categorical_accuracy did not improve from 0.76457\n",
      "2651/2651 - 238s - loss: 0.6440 - sparse_categorical_accuracy: 0.7996 - val_loss: 0.7875 - val_sparse_categorical_accuracy: 0.7592\n",
      "Changing learning rate to 0.0004\n",
      "Epoch 18/60\n",
      "\n",
      "Epoch 00018: val_sparse_categorical_accuracy improved from 0.76457 to 0.76869, saving model to my-model-DeepLSTM.h5\n",
      "2651/2651 - 243s - loss: 0.6093 - sparse_categorical_accuracy: 0.8104 - val_loss: 0.7697 - val_sparse_categorical_accuracy: 0.7687\n",
      "Changing learning rate to 0.0004\n",
      "Epoch 19/60\n",
      "\n",
      "Epoch 00019: val_sparse_categorical_accuracy did not improve from 0.76869\n",
      "2651/2651 - 237s - loss: 0.5794 - sparse_categorical_accuracy: 0.8187 - val_loss: 0.7585 - val_sparse_categorical_accuracy: 0.7676\n",
      "Changing learning rate to 0.0004\n",
      "Epoch 20/60\n",
      "\n",
      "Epoch 00020: val_sparse_categorical_accuracy did not improve from 0.76869\n",
      "2651/2651 - 241s - loss: 0.5636 - sparse_categorical_accuracy: 0.8231 - val_loss: 0.7871 - val_sparse_categorical_accuracy: 0.7629\n",
      "Changing learning rate to 0.0004\n",
      "Epoch 21/60\n",
      "\n",
      "Epoch 00021: val_sparse_categorical_accuracy did not improve from 0.76869\n",
      "2651/2651 - 237s - loss: 0.5507 - sparse_categorical_accuracy: 0.8274 - val_loss: 0.7760 - val_sparse_categorical_accuracy: 0.7676\n",
      "Changing learning rate to 0.0004\n",
      "Epoch 22/60\n",
      "\n",
      "Epoch 00022: val_sparse_categorical_accuracy improved from 0.76869 to 0.77000, saving model to my-model-DeepLSTM.h5\n",
      "2651/2651 - 234s - loss: 0.5328 - sparse_categorical_accuracy: 0.8323 - val_loss: 0.7770 - val_sparse_categorical_accuracy: 0.7700\n",
      "Changing learning rate to 0.0004\n",
      "Epoch 23/60\n",
      "\n",
      "Epoch 00023: val_sparse_categorical_accuracy improved from 0.77000 to 0.77070, saving model to my-model-DeepLSTM.h5\n",
      "2651/2651 - 233s - loss: 0.5180 - sparse_categorical_accuracy: 0.8370 - val_loss: 0.7788 - val_sparse_categorical_accuracy: 0.7707\n",
      "Changing learning rate to 0.0004\n",
      "Epoch 24/60\n",
      "\n",
      "Epoch 00024: val_sparse_categorical_accuracy improved from 0.77070 to 0.77160, saving model to my-model-DeepLSTM.h5\n",
      "2651/2651 - 241s - loss: 0.5010 - sparse_categorical_accuracy: 0.8417 - val_loss: 0.7857 - val_sparse_categorical_accuracy: 0.7716\n",
      "Changing learning rate to 0.0004\n",
      "Epoch 25/60\n",
      "\n",
      "Epoch 00025: val_sparse_categorical_accuracy improved from 0.77160 to 0.77341, saving model to my-model-DeepLSTM.h5\n",
      "2651/2651 - 236s - loss: 0.5009 - sparse_categorical_accuracy: 0.8416 - val_loss: 0.7774 - val_sparse_categorical_accuracy: 0.7734\n",
      "Changing learning rate to 0.0004\n",
      "Epoch 26/60\n",
      "\n",
      "Epoch 00026: val_sparse_categorical_accuracy did not improve from 0.77341\n",
      "2651/2651 - 233s - loss: 0.4814 - sparse_categorical_accuracy: 0.8473 - val_loss: 0.8079 - val_sparse_categorical_accuracy: 0.7718\n",
      "Changing learning rate to 0.0004\n",
      "Epoch 27/60\n",
      "\n",
      "Epoch 00027: val_sparse_categorical_accuracy did not improve from 0.77341\n",
      "2651/2651 - 228s - loss: 0.4748 - sparse_categorical_accuracy: 0.8492 - val_loss: 0.8145 - val_sparse_categorical_accuracy: 0.7717\n",
      "Changing learning rate to 0.0004\n",
      "Epoch 28/60\n",
      "\n",
      "Epoch 00028: val_sparse_categorical_accuracy did not improve from 0.77341\n",
      "2651/2651 - 238s - loss: 0.4581 - sparse_categorical_accuracy: 0.8540 - val_loss: 0.8126 - val_sparse_categorical_accuracy: 0.7706\n",
      "Changing learning rate to 0.0004\n",
      "Epoch 29/60\n",
      "\n",
      "Epoch 00029: val_sparse_categorical_accuracy did not improve from 0.77341\n",
      "2651/2651 - 235s - loss: 0.4548 - sparse_categorical_accuracy: 0.8564 - val_loss: 0.8281 - val_sparse_categorical_accuracy: 0.7658\n",
      "Changing learning rate to 0.00016000000000000004\n",
      "Epoch 30/60\n",
      "\n",
      "Epoch 00030: val_sparse_categorical_accuracy improved from 0.77341 to 0.77864, saving model to my-model-DeepLSTM.h5\n",
      "2651/2651 - 235s - loss: 0.3828 - sparse_categorical_accuracy: 0.8810 - val_loss: 0.8184 - val_sparse_categorical_accuracy: 0.7786\n"
     ]
    },
    {
     "name": "stdout",
     "output_type": "stream",
     "text": [
      "Changing learning rate to 0.00016000000000000004\n",
      "Epoch 31/60\n",
      "\n",
      "Epoch 00031: val_sparse_categorical_accuracy did not improve from 0.77864\n",
      "2651/2651 - 255s - loss: 0.3552 - sparse_categorical_accuracy: 0.8893 - val_loss: 0.8555 - val_sparse_categorical_accuracy: 0.7726\n",
      "Changing learning rate to 0.00016000000000000004\n",
      "Epoch 32/60\n",
      "\n",
      "Epoch 00032: val_sparse_categorical_accuracy did not improve from 0.77864\n",
      "2651/2651 - 242s - loss: 0.3293 - sparse_categorical_accuracy: 0.8986 - val_loss: 0.8835 - val_sparse_categorical_accuracy: 0.7747\n",
      "Changing learning rate to 0.00016000000000000004\n",
      "Epoch 33/60\n",
      "\n",
      "Epoch 00033: val_sparse_categorical_accuracy did not improve from 0.77864\n",
      "2651/2651 - 235s - loss: 0.3171 - sparse_categorical_accuracy: 0.9018 - val_loss: 0.8986 - val_sparse_categorical_accuracy: 0.7733\n",
      "Changing learning rate to 0.00016000000000000004\n",
      "Epoch 34/60\n",
      "\n",
      "Epoch 00034: val_sparse_categorical_accuracy did not improve from 0.77864\n",
      "2651/2651 - 238s - loss: 0.3054 - sparse_categorical_accuracy: 0.9043 - val_loss: 0.9076 - val_sparse_categorical_accuracy: 0.7720\n",
      "Changing learning rate to 0.00016000000000000004\n",
      "Epoch 35/60\n",
      "\n",
      "Epoch 00035: val_sparse_categorical_accuracy did not improve from 0.77864\n",
      "2651/2651 - 242s - loss: 0.2969 - sparse_categorical_accuracy: 0.9072 - val_loss: 0.9295 - val_sparse_categorical_accuracy: 0.7732\n",
      "Changing learning rate to 0.00016000000000000004\n",
      "Epoch 36/60\n",
      "\n",
      "Epoch 00036: val_sparse_categorical_accuracy did not improve from 0.77864\n",
      "2651/2651 - 248s - loss: 0.2862 - sparse_categorical_accuracy: 0.9103 - val_loss: 0.9365 - val_sparse_categorical_accuracy: 0.7711\n",
      "Changing learning rate to 0.00016000000000000004\n",
      "Epoch 37/60\n",
      "\n",
      "Epoch 00037: val_sparse_categorical_accuracy did not improve from 0.77864\n",
      "2651/2651 - 242s - loss: 0.2868 - sparse_categorical_accuracy: 0.9107 - val_loss: 0.9623 - val_sparse_categorical_accuracy: 0.7709\n",
      "Changing learning rate to 0.00016000000000000004\n",
      "Epoch 38/60\n",
      "\n",
      "Epoch 00038: val_sparse_categorical_accuracy did not improve from 0.77864\n",
      "2651/2651 - 247s - loss: 0.2721 - sparse_categorical_accuracy: 0.9157 - val_loss: 0.9717 - val_sparse_categorical_accuracy: 0.7761\n",
      "Changing learning rate to 0.00016000000000000004\n",
      "Epoch 39/60\n",
      "\n",
      "Epoch 00039: val_sparse_categorical_accuracy did not improve from 0.77864\n",
      "2651/2651 - 248s - loss: 0.2674 - sparse_categorical_accuracy: 0.9167 - val_loss: 0.9752 - val_sparse_categorical_accuracy: 0.7690\n",
      "Changing learning rate to 0.00016000000000000004\n",
      "Epoch 40/60\n",
      "Restoring model weights from the end of the best epoch.\n",
      "\n",
      "Epoch 00040: val_sparse_categorical_accuracy did not improve from 0.77864\n",
      "2651/2651 - 234s - loss: 0.2669 - sparse_categorical_accuracy: 0.9167 - val_loss: 1.0132 - val_sparse_categorical_accuracy: 0.7707\n",
      "Epoch 00040: early stopping\n"
     ]
    }
   ],
   "source": [
    "earlystopper = EarlyStopping(monitor='val_sparse_categorical_accuracy', patience=10,\n",
    "                             verbose=1, restore_best_weights=True)\n",
    "checkpointer = ModelCheckpoint(modelType + \".h5\", monitor='val_sparse_categorical_accuracy', verbose=1, save_best_only=True)\n",
    "\n",
    "results = model.fit(trainGen, validation_data=valGen, epochs=60, use_multiprocessing=False, workers=4, verbose=2,\n",
    "                    callbacks=[earlystopper, checkpointer, lrate])\n",
    "\n",
    "model.save(modelType + \".h5\")"
   ]
  },
  {
   "cell_type": "code",
   "execution_count": 127,
   "metadata": {},
   "outputs": [
    {
     "data": {
      "image/png": "[encoded data removed]",
      "text/plain": [
       "<Figure size 432x288 with 1 Axes>"
      ]
     },
     "metadata": {
      "needs_background": "light"
     },
     "output_type": "display_data"
    },
    {
     "data": {
      "image/png": "[encoded data removed]",
      "text/plain": [
       "<Figure size 432x288 with 1 Axes>"
      ]
     },
     "metadata": {
      "needs_background": "light"
     },
     "output_type": "display_data"
    }
   ],
   "source": [
    "# summarize history for categorical accuracy\n",
    "plt.plot(results.history['sparse_categorical_accuracy'])\n",
    "plt.plot(results.history['val_sparse_categorical_accuracy'])\n",
    "plt.title('Categorical accuracy')\n",
    "plt.ylabel('accuracy')\n",
    "plt.xlabel('epoch')\n",
    "plt.legend(['train', 'test'], loc='upper left')\n",
    "plt.show()\n",
    "# summarize history for loss\n",
    "plt.plot(results.history['loss'])\n",
    "plt.plot(results.history['val_loss'])\n",
    "plt.title('model loss')\n",
    "plt.ylabel('loss')\n",
    "plt.xlabel('epoch')\n",
    "plt.legend(['train', 'test'], loc='upper left')\n",
    "plt.show()"
   ]
  },
  {
   "cell_type": "code",
   "execution_count": null,
   "metadata": {},
   "outputs": [],
   "source": [
    "# load best model according to cross-validation - model-attRNN\n",
    "# model = load_model(modelType + \".h5\", custom_objects={'Melspectrogram': Melspectrogram, 'Normalization2D': Normalization2D })\n",
    "model.load_weights(modelType + \".h5\")"
   ]
  },
  {
   "cell_type": "code",
   "execution_count": 16,
   "metadata": {},
   "outputs": [],
   "source": [
    "#read all test data\n",
    "x_test, y_test = testGen.__getitem__(0)"
   ]
  },
  {
   "cell_type": "code",
   "execution_count": 19,
   "metadata": {},
   "outputs": [
    {
     "data": {
      "text/plain": [
       "(11005, 16000)"
      ]
     },
     "execution_count": 19,
     "metadata": {},
     "output_type": "execute_result"
    }
   ],
   "source": [
    "x_test.shape"
   ]
  },
  {
   "cell_type": "code",
   "execution_count": 128,
   "metadata": {},
   "outputs": [
    {
     "name": "stdout",
     "output_type": "stream",
     "text": [
      "Evaluation scores: \n",
      "Metrics: ['loss', 'sparse_categorical_accuracy'] \n",
      "Train: [0.33735015988349915, 0.8980337381362915] \n",
      "Validation: [0.8171331286430359, 0.777532160282135] \n",
      "Test: [0.93300861120224, 0.7571104168891907]\n"
     ]
    }
   ],
   "source": [
    "valEval = model.evaluate(valGen, use_multiprocessing=False, workers=4,verbose=0)\n",
    "trainEval = model.evaluate(trainGen, use_multiprocessing=False, workers=4,verbose=0)\n",
    "testEval = model.evaluate(x_test, y_test, verbose=0)\n",
    "print('Evaluation scores: \\nMetrics: {} \\nTrain: {} \\nValidation: {} \\nTest: {}'.format(model.metrics_names, trainEval, valEval, testEval) )"
   ]
  },
  {
   "cell_type": "code",
   "execution_count": null,
   "metadata": {},
   "outputs": [],
   "source": [
    "#35word, v2\n",
    "classes = ['nine', 'yes', 'no', 'up', 'down', 'left', 'right', 'on', 'off', 'stop', 'go',\n",
    "           'zero', 'one', 'two', 'three', 'four', 'five', 'six', \n",
    "           'seven',  'eight', 'backward', 'bed', 'bird', 'cat', 'dog',\n",
    "           'follow', 'forward', 'happy', 'house', 'learn', 'marvin', 'sheila', 'tree',\n",
    "           'visual', 'wow']"
   ]
  },
  {
   "cell_type": "code",
   "execution_count": 9,
   "metadata": {},
   "outputs": [
    {
     "data": {
      "text/plain": [
       "['2.3.4', '0.2.0', '1.3.5', '0.9.1']"
      ]
     },
     "execution_count": 9,
     "metadata": {},
     "output_type": "execute_result"
    }
   ],
   "source": [
    "import pandas as pd\n",
    "import kapre\n",
    "from kapre.time_frequency import Melspectrogram\n",
    "from kapre.utils import Normalization2D\n",
    "[tf.__version__, kapre.__version__, pd.__version__, librosa.__version__]"
   ]
  },
  {
   "cell_type": "markdown",
   "metadata": {},
   "source": [
    "# Save model to .pb"
   ]
  },
  {
   "cell_type": "code",
   "execution_count": 10,
   "metadata": {},
   "outputs": [],
   "source": [
    "#model = SpeechModels.AttRNNSpeechModel(nCategs, samplingrate = sr, inputLength = None)#, rnn_func=L.LSTM)\n",
    "#model.load_weights(modelType + \".h5\")\n",
    "\n",
    "model = load_model(modelType + \".h5\", custom_objects={'Melspectrogram': Melspectrogram, 'Normalization2D': Normalization2D })"
   ]
  },
  {
   "cell_type": "code",
   "execution_count": 81,
   "metadata": {},
   "outputs": [
    {
     "name": "stdout",
     "output_type": "stream",
     "text": [
      "INFO:tensorflow:Assets written to: my-model-simpleLSTM/1/assets\n"
     ]
    }
   ],
   "source": [
    "tf.saved_model.save(model, modelType + \"/1/\")\n"
   ]
  },
  {
   "cell_type": "code",
   "execution_count": null,
   "metadata": {},
   "outputs": [],
   "source": []
  }
 ],
 "metadata": {
  "interpreter": {
   "hash": "f71222efeac2516dbe25f613e7d6d002b5e312af084a48149620fcb4a97a32e9"
  },
  "kernelspec": {
   "display_name": "Python 3 (ipykernel)",
   "language": "python",
   "name": "python3"
  },
  "language_info": {
   "codemirror_mode": {
    "name": "ipython",
    "version": 3
   },
   "file_extension": ".py",
   "mimetype": "text/x-python",
   "name": "python",
   "nbconvert_exporter": "python",
   "pygments_lexer": "ipython3",
   "version": "3.7.13"
  }
 },
 "nbformat": 4,
 "nbformat_minor": 2
}
